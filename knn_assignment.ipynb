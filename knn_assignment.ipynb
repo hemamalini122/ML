{
 "cells": [
  {
   "cell_type": "code",
   "execution_count": 29,
   "metadata": {},
   "outputs": [],
   "source": [
    "import pandas as pd\n",
    "import numpy as np\n",
    "import matplotlib.pyplot as plt\n",
    "%matplotlib inline\n",
    "import seaborn as sns"
   ]
  },
  {
   "cell_type": "code",
   "execution_count": 30,
   "metadata": {},
   "outputs": [],
   "source": [
    "df=pd.read_csv(\"C:\\\\Users\\\\Kannan\\\\Desktop\\\\hema\\\\assignments\\\\adult.CSV\")"
   ]
  },
  {
   "cell_type": "code",
   "execution_count": 31,
   "metadata": {},
   "outputs": [
    {
     "data": {
      "text/html": [
       "<div>\n",
       "<style scoped>\n",
       "    .dataframe tbody tr th:only-of-type {\n",
       "        vertical-align: middle;\n",
       "    }\n",
       "\n",
       "    .dataframe tbody tr th {\n",
       "        vertical-align: top;\n",
       "    }\n",
       "\n",
       "    .dataframe thead th {\n",
       "        text-align: right;\n",
       "    }\n",
       "</style>\n",
       "<table border=\"1\" class=\"dataframe\">\n",
       "  <thead>\n",
       "    <tr style=\"text-align: right;\">\n",
       "      <th></th>\n",
       "      <th>age</th>\n",
       "      <th>workclass</th>\n",
       "      <th>fnlwgt</th>\n",
       "      <th>education</th>\n",
       "      <th>education_num</th>\n",
       "      <th>marital_status</th>\n",
       "      <th>occupation</th>\n",
       "      <th>relationship</th>\n",
       "      <th>race</th>\n",
       "      <th>sex</th>\n",
       "      <th>capital_gain</th>\n",
       "      <th>capital_loss</th>\n",
       "      <th>hours_per_week</th>\n",
       "      <th>native_country</th>\n",
       "      <th>income</th>\n",
       "    </tr>\n",
       "  </thead>\n",
       "  <tbody>\n",
       "    <tr>\n",
       "      <th>0</th>\n",
       "      <td>39</td>\n",
       "      <td>State-gov</td>\n",
       "      <td>77516</td>\n",
       "      <td>Bachelors</td>\n",
       "      <td>13</td>\n",
       "      <td>Never-married</td>\n",
       "      <td>Adm-clerical</td>\n",
       "      <td>Not-in-family</td>\n",
       "      <td>White</td>\n",
       "      <td>Male</td>\n",
       "      <td>2174</td>\n",
       "      <td>0</td>\n",
       "      <td>40</td>\n",
       "      <td>United-States</td>\n",
       "      <td>&lt;=50K</td>\n",
       "    </tr>\n",
       "    <tr>\n",
       "      <th>1</th>\n",
       "      <td>50</td>\n",
       "      <td>Self-emp-not-inc</td>\n",
       "      <td>83311</td>\n",
       "      <td>Bachelors</td>\n",
       "      <td>13</td>\n",
       "      <td>Married-civ-spouse</td>\n",
       "      <td>Exec-managerial</td>\n",
       "      <td>Husband</td>\n",
       "      <td>White</td>\n",
       "      <td>Male</td>\n",
       "      <td>0</td>\n",
       "      <td>0</td>\n",
       "      <td>13</td>\n",
       "      <td>United-States</td>\n",
       "      <td>&lt;=50K</td>\n",
       "    </tr>\n",
       "    <tr>\n",
       "      <th>2</th>\n",
       "      <td>38</td>\n",
       "      <td>Private</td>\n",
       "      <td>215646</td>\n",
       "      <td>HS-grad</td>\n",
       "      <td>9</td>\n",
       "      <td>Divorced</td>\n",
       "      <td>Handlers-cleaners</td>\n",
       "      <td>Not-in-family</td>\n",
       "      <td>White</td>\n",
       "      <td>Male</td>\n",
       "      <td>0</td>\n",
       "      <td>0</td>\n",
       "      <td>40</td>\n",
       "      <td>United-States</td>\n",
       "      <td>&lt;=50K</td>\n",
       "    </tr>\n",
       "    <tr>\n",
       "      <th>3</th>\n",
       "      <td>53</td>\n",
       "      <td>Private</td>\n",
       "      <td>234721</td>\n",
       "      <td>11th</td>\n",
       "      <td>7</td>\n",
       "      <td>Married-civ-spouse</td>\n",
       "      <td>Handlers-cleaners</td>\n",
       "      <td>Husband</td>\n",
       "      <td>Black</td>\n",
       "      <td>#NAME?</td>\n",
       "      <td>0</td>\n",
       "      <td>0</td>\n",
       "      <td>40</td>\n",
       "      <td>United-States</td>\n",
       "      <td>&lt;=50K</td>\n",
       "    </tr>\n",
       "    <tr>\n",
       "      <th>4</th>\n",
       "      <td>28</td>\n",
       "      <td>Private</td>\n",
       "      <td>338409</td>\n",
       "      <td>Bachelors</td>\n",
       "      <td>13</td>\n",
       "      <td>Married-civ-spouse</td>\n",
       "      <td>Prof-specialty</td>\n",
       "      <td>Wife</td>\n",
       "      <td>Black</td>\n",
       "      <td>Female</td>\n",
       "      <td>0</td>\n",
       "      <td>0</td>\n",
       "      <td>40</td>\n",
       "      <td>Cuba</td>\n",
       "      <td>&lt;=50K</td>\n",
       "    </tr>\n",
       "    <tr>\n",
       "      <th>5</th>\n",
       "      <td>37</td>\n",
       "      <td>Private</td>\n",
       "      <td>284582</td>\n",
       "      <td>Masters</td>\n",
       "      <td>14</td>\n",
       "      <td>Married-civ-spouse</td>\n",
       "      <td>Exec-managerial</td>\n",
       "      <td>Wife</td>\n",
       "      <td>White</td>\n",
       "      <td>Female</td>\n",
       "      <td>0</td>\n",
       "      <td>0</td>\n",
       "      <td>40</td>\n",
       "      <td>United-States</td>\n",
       "      <td>&lt;=50K</td>\n",
       "    </tr>\n",
       "    <tr>\n",
       "      <th>6</th>\n",
       "      <td>49</td>\n",
       "      <td>Private</td>\n",
       "      <td>160187</td>\n",
       "      <td>9th</td>\n",
       "      <td>5</td>\n",
       "      <td>Married-spouse-absent</td>\n",
       "      <td>Other-service</td>\n",
       "      <td>Not-in-family</td>\n",
       "      <td>Black</td>\n",
       "      <td>Female</td>\n",
       "      <td>0</td>\n",
       "      <td>0</td>\n",
       "      <td>16</td>\n",
       "      <td>Jamaica</td>\n",
       "      <td>&lt;=50K</td>\n",
       "    </tr>\n",
       "    <tr>\n",
       "      <th>7</th>\n",
       "      <td>52</td>\n",
       "      <td>Self-emp-not-inc</td>\n",
       "      <td>209642</td>\n",
       "      <td>HS-grad</td>\n",
       "      <td>9</td>\n",
       "      <td>Married-civ-spouse</td>\n",
       "      <td>Exec-managerial</td>\n",
       "      <td>Husband</td>\n",
       "      <td>White</td>\n",
       "      <td>Male</td>\n",
       "      <td>0</td>\n",
       "      <td>0</td>\n",
       "      <td>45</td>\n",
       "      <td>United-States</td>\n",
       "      <td>&gt;50K</td>\n",
       "    </tr>\n",
       "    <tr>\n",
       "      <th>8</th>\n",
       "      <td>31</td>\n",
       "      <td>Private</td>\n",
       "      <td>45781</td>\n",
       "      <td>Masters</td>\n",
       "      <td>14</td>\n",
       "      <td>Never-married</td>\n",
       "      <td>Prof-specialty</td>\n",
       "      <td>Not-in-family</td>\n",
       "      <td>White</td>\n",
       "      <td>Female</td>\n",
       "      <td>14084</td>\n",
       "      <td>0</td>\n",
       "      <td>50</td>\n",
       "      <td>United-States</td>\n",
       "      <td>&gt;50K</td>\n",
       "    </tr>\n",
       "    <tr>\n",
       "      <th>9</th>\n",
       "      <td>42</td>\n",
       "      <td>Private</td>\n",
       "      <td>159449</td>\n",
       "      <td>Bachelors</td>\n",
       "      <td>13</td>\n",
       "      <td>Married-civ-spouse</td>\n",
       "      <td>Exec-managerial</td>\n",
       "      <td>Husband</td>\n",
       "      <td>White</td>\n",
       "      <td>Male</td>\n",
       "      <td>5178</td>\n",
       "      <td>0</td>\n",
       "      <td>40</td>\n",
       "      <td>United-States</td>\n",
       "      <td>&gt;50K</td>\n",
       "    </tr>\n",
       "    <tr>\n",
       "      <th>10</th>\n",
       "      <td>37</td>\n",
       "      <td>Private</td>\n",
       "      <td>280464</td>\n",
       "      <td>Some-college</td>\n",
       "      <td>10</td>\n",
       "      <td>Married-civ-spouse</td>\n",
       "      <td>Exec-managerial</td>\n",
       "      <td>Husband</td>\n",
       "      <td>Black</td>\n",
       "      <td>Male</td>\n",
       "      <td>0</td>\n",
       "      <td>0</td>\n",
       "      <td>80</td>\n",
       "      <td>United-States</td>\n",
       "      <td>&gt;50K</td>\n",
       "    </tr>\n",
       "    <tr>\n",
       "      <th>11</th>\n",
       "      <td>30</td>\n",
       "      <td>State-gov</td>\n",
       "      <td>141297</td>\n",
       "      <td>Bachelors</td>\n",
       "      <td>13</td>\n",
       "      <td>Married-civ-spouse</td>\n",
       "      <td>Prof-specialty</td>\n",
       "      <td>Husband</td>\n",
       "      <td>Asian-Pac-Islander</td>\n",
       "      <td>Male</td>\n",
       "      <td>0</td>\n",
       "      <td>0</td>\n",
       "      <td>40</td>\n",
       "      <td>India</td>\n",
       "      <td>&gt;50K</td>\n",
       "    </tr>\n",
       "    <tr>\n",
       "      <th>12</th>\n",
       "      <td>23</td>\n",
       "      <td>Private</td>\n",
       "      <td>122272</td>\n",
       "      <td>Bachelors</td>\n",
       "      <td>13</td>\n",
       "      <td>Never-married</td>\n",
       "      <td>Adm-clerical</td>\n",
       "      <td>Own-child</td>\n",
       "      <td>White</td>\n",
       "      <td>Female</td>\n",
       "      <td>0</td>\n",
       "      <td>0</td>\n",
       "      <td>30</td>\n",
       "      <td>United-States</td>\n",
       "      <td>&lt;=50K</td>\n",
       "    </tr>\n",
       "    <tr>\n",
       "      <th>13</th>\n",
       "      <td>32</td>\n",
       "      <td>Private</td>\n",
       "      <td>205019</td>\n",
       "      <td>Assoc-acdm</td>\n",
       "      <td>12</td>\n",
       "      <td>Never-married</td>\n",
       "      <td>Sales</td>\n",
       "      <td>Not-in-family</td>\n",
       "      <td>Black</td>\n",
       "      <td>Male</td>\n",
       "      <td>0</td>\n",
       "      <td>0</td>\n",
       "      <td>50</td>\n",
       "      <td>United-States</td>\n",
       "      <td>&lt;=50K</td>\n",
       "    </tr>\n",
       "    <tr>\n",
       "      <th>14</th>\n",
       "      <td>40</td>\n",
       "      <td>Private</td>\n",
       "      <td>121772</td>\n",
       "      <td>Assoc-voc</td>\n",
       "      <td>11</td>\n",
       "      <td>Married-civ-spouse</td>\n",
       "      <td>Craft-repair</td>\n",
       "      <td>Husband</td>\n",
       "      <td>Asian-Pac-Islander</td>\n",
       "      <td>Male</td>\n",
       "      <td>0</td>\n",
       "      <td>0</td>\n",
       "      <td>40</td>\n",
       "      <td>?</td>\n",
       "      <td>&gt;50K</td>\n",
       "    </tr>\n",
       "    <tr>\n",
       "      <th>15</th>\n",
       "      <td>34</td>\n",
       "      <td>Private</td>\n",
       "      <td>245487</td>\n",
       "      <td>7th-8th</td>\n",
       "      <td>4</td>\n",
       "      <td>Married-civ-spouse</td>\n",
       "      <td>Transport-moving</td>\n",
       "      <td>Husband</td>\n",
       "      <td>Amer-Indian-Eskimo</td>\n",
       "      <td>Male</td>\n",
       "      <td>0</td>\n",
       "      <td>0</td>\n",
       "      <td>45</td>\n",
       "      <td>Mexico</td>\n",
       "      <td>&lt;=50K</td>\n",
       "    </tr>\n",
       "    <tr>\n",
       "      <th>16</th>\n",
       "      <td>#NAME?</td>\n",
       "      <td>Self-emp-not-inc</td>\n",
       "      <td>#NAME?</td>\n",
       "      <td>HS-grad</td>\n",
       "      <td>9</td>\n",
       "      <td>Never-married</td>\n",
       "      <td>Farming-fishing</td>\n",
       "      <td>Own-child</td>\n",
       "      <td>White</td>\n",
       "      <td>Male</td>\n",
       "      <td>0</td>\n",
       "      <td>0</td>\n",
       "      <td>35</td>\n",
       "      <td>United-States</td>\n",
       "      <td>&lt;=50K</td>\n",
       "    </tr>\n",
       "    <tr>\n",
       "      <th>17</th>\n",
       "      <td>32</td>\n",
       "      <td>Private</td>\n",
       "      <td>186824</td>\n",
       "      <td>HS-grad</td>\n",
       "      <td>9</td>\n",
       "      <td>Never-married</td>\n",
       "      <td>Machine-op-inspct</td>\n",
       "      <td>Unmarried</td>\n",
       "      <td>White</td>\n",
       "      <td>Male</td>\n",
       "      <td>0</td>\n",
       "      <td>0</td>\n",
       "      <td>40</td>\n",
       "      <td>United-States</td>\n",
       "      <td>&lt;=50K</td>\n",
       "    </tr>\n",
       "    <tr>\n",
       "      <th>18</th>\n",
       "      <td>38</td>\n",
       "      <td>Private</td>\n",
       "      <td>28887</td>\n",
       "      <td>11th</td>\n",
       "      <td>7</td>\n",
       "      <td>Married-civ-spouse</td>\n",
       "      <td>Sales</td>\n",
       "      <td>Husband</td>\n",
       "      <td>White</td>\n",
       "      <td>Male</td>\n",
       "      <td>0</td>\n",
       "      <td>0</td>\n",
       "      <td>50</td>\n",
       "      <td>United-States</td>\n",
       "      <td>&lt;=50K</td>\n",
       "    </tr>\n",
       "    <tr>\n",
       "      <th>19</th>\n",
       "      <td>43</td>\n",
       "      <td>Self-emp-not-inc</td>\n",
       "      <td>292175</td>\n",
       "      <td>Masters</td>\n",
       "      <td>14</td>\n",
       "      <td>Divorced</td>\n",
       "      <td>Exec-managerial</td>\n",
       "      <td>Unmarried</td>\n",
       "      <td>White</td>\n",
       "      <td>Female</td>\n",
       "      <td>0</td>\n",
       "      <td>0</td>\n",
       "      <td>45</td>\n",
       "      <td>United-States</td>\n",
       "      <td>&gt;50K</td>\n",
       "    </tr>\n",
       "  </tbody>\n",
       "</table>\n",
       "</div>"
      ],
      "text/plain": [
       "       age         workclass  fnlwgt     education education_num  \\\n",
       "0       39         State-gov   77516     Bachelors            13   \n",
       "1       50  Self-emp-not-inc   83311     Bachelors            13   \n",
       "2       38           Private  215646       HS-grad             9   \n",
       "3       53           Private  234721          11th             7   \n",
       "4       28           Private  338409     Bachelors            13   \n",
       "5       37           Private  284582       Masters            14   \n",
       "6       49           Private  160187           9th             5   \n",
       "7       52  Self-emp-not-inc  209642       HS-grad             9   \n",
       "8       31           Private   45781       Masters            14   \n",
       "9       42           Private  159449     Bachelors            13   \n",
       "10      37           Private  280464  Some-college            10   \n",
       "11      30         State-gov  141297     Bachelors            13   \n",
       "12      23           Private  122272     Bachelors            13   \n",
       "13      32           Private  205019    Assoc-acdm            12   \n",
       "14      40           Private  121772     Assoc-voc            11   \n",
       "15      34           Private  245487       7th-8th             4   \n",
       "16  #NAME?  Self-emp-not-inc  #NAME?       HS-grad             9   \n",
       "17      32           Private  186824       HS-grad             9   \n",
       "18      38           Private   28887          11th             7   \n",
       "19      43  Self-emp-not-inc  292175       Masters            14   \n",
       "\n",
       "           marital_status         occupation   relationship  \\\n",
       "0           Never-married       Adm-clerical  Not-in-family   \n",
       "1      Married-civ-spouse    Exec-managerial        Husband   \n",
       "2                Divorced  Handlers-cleaners  Not-in-family   \n",
       "3      Married-civ-spouse  Handlers-cleaners        Husband   \n",
       "4      Married-civ-spouse     Prof-specialty           Wife   \n",
       "5      Married-civ-spouse    Exec-managerial           Wife   \n",
       "6   Married-spouse-absent      Other-service  Not-in-family   \n",
       "7      Married-civ-spouse    Exec-managerial        Husband   \n",
       "8           Never-married     Prof-specialty  Not-in-family   \n",
       "9      Married-civ-spouse    Exec-managerial        Husband   \n",
       "10     Married-civ-spouse    Exec-managerial        Husband   \n",
       "11     Married-civ-spouse     Prof-specialty        Husband   \n",
       "12          Never-married       Adm-clerical      Own-child   \n",
       "13          Never-married              Sales  Not-in-family   \n",
       "14     Married-civ-spouse       Craft-repair        Husband   \n",
       "15     Married-civ-spouse   Transport-moving        Husband   \n",
       "16          Never-married    Farming-fishing      Own-child   \n",
       "17          Never-married  Machine-op-inspct      Unmarried   \n",
       "18     Married-civ-spouse              Sales        Husband   \n",
       "19               Divorced    Exec-managerial      Unmarried   \n",
       "\n",
       "                  race     sex  capital_gain  capital_loss  hours_per_week  \\\n",
       "0                White    Male          2174             0              40   \n",
       "1                White    Male             0             0              13   \n",
       "2                White    Male             0             0              40   \n",
       "3                Black  #NAME?             0             0              40   \n",
       "4                Black  Female             0             0              40   \n",
       "5                White  Female             0             0              40   \n",
       "6                Black  Female             0             0              16   \n",
       "7                White    Male             0             0              45   \n",
       "8                White  Female         14084             0              50   \n",
       "9                White    Male          5178             0              40   \n",
       "10               Black    Male             0             0              80   \n",
       "11  Asian-Pac-Islander    Male             0             0              40   \n",
       "12               White  Female             0             0              30   \n",
       "13               Black    Male             0             0              50   \n",
       "14  Asian-Pac-Islander    Male             0             0              40   \n",
       "15  Amer-Indian-Eskimo    Male             0             0              45   \n",
       "16               White    Male             0             0              35   \n",
       "17               White    Male             0             0              40   \n",
       "18               White    Male             0             0              50   \n",
       "19               White  Female             0             0              45   \n",
       "\n",
       "   native_country income  \n",
       "0   United-States  <=50K  \n",
       "1   United-States  <=50K  \n",
       "2   United-States  <=50K  \n",
       "3   United-States  <=50K  \n",
       "4            Cuba  <=50K  \n",
       "5   United-States  <=50K  \n",
       "6         Jamaica  <=50K  \n",
       "7   United-States   >50K  \n",
       "8   United-States   >50K  \n",
       "9   United-States   >50K  \n",
       "10  United-States   >50K  \n",
       "11          India   >50K  \n",
       "12  United-States  <=50K  \n",
       "13  United-States  <=50K  \n",
       "14              ?   >50K  \n",
       "15         Mexico  <=50K  \n",
       "16  United-States  <=50K  \n",
       "17  United-States  <=50K  \n",
       "18  United-States  <=50K  \n",
       "19  United-States   >50K  "
      ]
     },
     "execution_count": 31,
     "metadata": {},
     "output_type": "execute_result"
    }
   ],
   "source": [
    "df.head(20)"
   ]
  },
  {
   "cell_type": "code",
   "execution_count": 32,
   "metadata": {},
   "outputs": [
    {
     "name": "stdout",
     "output_type": "stream",
     "text": [
      "<class 'pandas.core.frame.DataFrame'>\n",
      "RangeIndex: 5000 entries, 0 to 4999\n",
      "Data columns (total 15 columns):\n",
      " #   Column          Non-Null Count  Dtype \n",
      "---  ------          --------------  ----- \n",
      " 0   age             5000 non-null   object\n",
      " 1   workclass       5000 non-null   object\n",
      " 2   fnlwgt          5000 non-null   object\n",
      " 3   education       5000 non-null   object\n",
      " 4   education_num   5000 non-null   object\n",
      " 5   marital_status  5000 non-null   object\n",
      " 6   occupation      5000 non-null   object\n",
      " 7   relationship    5000 non-null   object\n",
      " 8   race            5000 non-null   object\n",
      " 9   sex             5000 non-null   object\n",
      " 10  capital_gain    5000 non-null   int64 \n",
      " 11  capital_loss    5000 non-null   int64 \n",
      " 12  hours_per_week  5000 non-null   int64 \n",
      " 13  native_country  5000 non-null   object\n",
      " 14  income          5000 non-null   object\n",
      "dtypes: int64(3), object(12)\n",
      "memory usage: 586.1+ KB\n"
     ]
    }
   ],
   "source": [
    "df.info()"
   ]
  },
  {
   "cell_type": "code",
   "execution_count": 33,
   "metadata": {},
   "outputs": [
    {
     "data": {
      "text/plain": [
       "age               0\n",
       "workclass         0\n",
       "fnlwgt            0\n",
       "education         0\n",
       "education_num     0\n",
       "marital_status    0\n",
       "occupation        0\n",
       "relationship      0\n",
       "race              0\n",
       "sex               0\n",
       "capital_gain      0\n",
       "capital_loss      0\n",
       "hours_per_week    0\n",
       "native_country    0\n",
       "income            0\n",
       "dtype: int64"
      ]
     },
     "execution_count": 33,
     "metadata": {},
     "output_type": "execute_result"
    }
   ],
   "source": [
    "df.isna().sum()"
   ]
  },
  {
   "cell_type": "code",
   "execution_count": 34,
   "metadata": {},
   "outputs": [
    {
     "data": {
      "text/plain": [
       "age               object\n",
       "workclass         object\n",
       "fnlwgt            object\n",
       "education         object\n",
       "education_num     object\n",
       "marital_status    object\n",
       "occupation        object\n",
       "relationship      object\n",
       "race              object\n",
       "sex               object\n",
       "capital_gain       int64\n",
       "capital_loss       int64\n",
       "hours_per_week     int64\n",
       "native_country    object\n",
       "income            object\n",
       "dtype: object"
      ]
     },
     "execution_count": 34,
     "metadata": {},
     "output_type": "execute_result"
    }
   ],
   "source": [
    "df.dtypes"
   ]
  },
  {
   "cell_type": "code",
   "execution_count": 35,
   "metadata": {},
   "outputs": [
    {
     "ename": "ValueError",
     "evalue": "invalid literal for int() with base 10: '#NAME?'",
     "output_type": "error",
     "traceback": [
      "\u001b[1;31m---------------------------------------------------------------------------\u001b[0m",
      "\u001b[1;31mValueError\u001b[0m                                Traceback (most recent call last)",
      "\u001b[1;32m<ipython-input-35-ea46a3652da6>\u001b[0m in \u001b[0;36m<module>\u001b[1;34m\u001b[0m\n\u001b[1;32m----> 1\u001b[1;33m \u001b[0mdf\u001b[0m\u001b[1;33m[\u001b[0m\u001b[1;34m'age'\u001b[0m\u001b[1;33m]\u001b[0m\u001b[1;33m.\u001b[0m\u001b[0mastype\u001b[0m\u001b[1;33m(\u001b[0m\u001b[0mint\u001b[0m\u001b[1;33m)\u001b[0m\u001b[1;33m\u001b[0m\u001b[1;33m\u001b[0m\u001b[0m\n\u001b[0m",
      "\u001b[1;32m~\\anaconda3\\New folder\\lib\\site-packages\\pandas\\core\\generic.py\u001b[0m in \u001b[0;36mastype\u001b[1;34m(self, dtype, copy, errors)\u001b[0m\n\u001b[0;32m   5696\u001b[0m         \u001b[1;32melse\u001b[0m\u001b[1;33m:\u001b[0m\u001b[1;33m\u001b[0m\u001b[1;33m\u001b[0m\u001b[0m\n\u001b[0;32m   5697\u001b[0m             \u001b[1;31m# else, only a single dtype is given\u001b[0m\u001b[1;33m\u001b[0m\u001b[1;33m\u001b[0m\u001b[1;33m\u001b[0m\u001b[0m\n\u001b[1;32m-> 5698\u001b[1;33m             \u001b[0mnew_data\u001b[0m \u001b[1;33m=\u001b[0m \u001b[0mself\u001b[0m\u001b[1;33m.\u001b[0m\u001b[0m_data\u001b[0m\u001b[1;33m.\u001b[0m\u001b[0mastype\u001b[0m\u001b[1;33m(\u001b[0m\u001b[0mdtype\u001b[0m\u001b[1;33m=\u001b[0m\u001b[0mdtype\u001b[0m\u001b[1;33m,\u001b[0m \u001b[0mcopy\u001b[0m\u001b[1;33m=\u001b[0m\u001b[0mcopy\u001b[0m\u001b[1;33m,\u001b[0m \u001b[0merrors\u001b[0m\u001b[1;33m=\u001b[0m\u001b[0merrors\u001b[0m\u001b[1;33m)\u001b[0m\u001b[1;33m\u001b[0m\u001b[1;33m\u001b[0m\u001b[0m\n\u001b[0m\u001b[0;32m   5699\u001b[0m             \u001b[1;32mreturn\u001b[0m \u001b[0mself\u001b[0m\u001b[1;33m.\u001b[0m\u001b[0m_constructor\u001b[0m\u001b[1;33m(\u001b[0m\u001b[0mnew_data\u001b[0m\u001b[1;33m)\u001b[0m\u001b[1;33m.\u001b[0m\u001b[0m__finalize__\u001b[0m\u001b[1;33m(\u001b[0m\u001b[0mself\u001b[0m\u001b[1;33m)\u001b[0m\u001b[1;33m\u001b[0m\u001b[1;33m\u001b[0m\u001b[0m\n\u001b[0;32m   5700\u001b[0m \u001b[1;33m\u001b[0m\u001b[0m\n",
      "\u001b[1;32m~\\anaconda3\\New folder\\lib\\site-packages\\pandas\\core\\internals\\managers.py\u001b[0m in \u001b[0;36mastype\u001b[1;34m(self, dtype, copy, errors)\u001b[0m\n\u001b[0;32m    580\u001b[0m \u001b[1;33m\u001b[0m\u001b[0m\n\u001b[0;32m    581\u001b[0m     \u001b[1;32mdef\u001b[0m \u001b[0mastype\u001b[0m\u001b[1;33m(\u001b[0m\u001b[0mself\u001b[0m\u001b[1;33m,\u001b[0m \u001b[0mdtype\u001b[0m\u001b[1;33m,\u001b[0m \u001b[0mcopy\u001b[0m\u001b[1;33m:\u001b[0m \u001b[0mbool\u001b[0m \u001b[1;33m=\u001b[0m \u001b[1;32mFalse\u001b[0m\u001b[1;33m,\u001b[0m \u001b[0merrors\u001b[0m\u001b[1;33m:\u001b[0m \u001b[0mstr\u001b[0m \u001b[1;33m=\u001b[0m \u001b[1;34m\"raise\"\u001b[0m\u001b[1;33m)\u001b[0m\u001b[1;33m:\u001b[0m\u001b[1;33m\u001b[0m\u001b[1;33m\u001b[0m\u001b[0m\n\u001b[1;32m--> 582\u001b[1;33m         \u001b[1;32mreturn\u001b[0m \u001b[0mself\u001b[0m\u001b[1;33m.\u001b[0m\u001b[0mapply\u001b[0m\u001b[1;33m(\u001b[0m\u001b[1;34m\"astype\"\u001b[0m\u001b[1;33m,\u001b[0m \u001b[0mdtype\u001b[0m\u001b[1;33m=\u001b[0m\u001b[0mdtype\u001b[0m\u001b[1;33m,\u001b[0m \u001b[0mcopy\u001b[0m\u001b[1;33m=\u001b[0m\u001b[0mcopy\u001b[0m\u001b[1;33m,\u001b[0m \u001b[0merrors\u001b[0m\u001b[1;33m=\u001b[0m\u001b[0merrors\u001b[0m\u001b[1;33m)\u001b[0m\u001b[1;33m\u001b[0m\u001b[1;33m\u001b[0m\u001b[0m\n\u001b[0m\u001b[0;32m    583\u001b[0m \u001b[1;33m\u001b[0m\u001b[0m\n\u001b[0;32m    584\u001b[0m     \u001b[1;32mdef\u001b[0m \u001b[0mconvert\u001b[0m\u001b[1;33m(\u001b[0m\u001b[0mself\u001b[0m\u001b[1;33m,\u001b[0m \u001b[1;33m**\u001b[0m\u001b[0mkwargs\u001b[0m\u001b[1;33m)\u001b[0m\u001b[1;33m:\u001b[0m\u001b[1;33m\u001b[0m\u001b[1;33m\u001b[0m\u001b[0m\n",
      "\u001b[1;32m~\\anaconda3\\New folder\\lib\\site-packages\\pandas\\core\\internals\\managers.py\u001b[0m in \u001b[0;36mapply\u001b[1;34m(self, f, filter, **kwargs)\u001b[0m\n\u001b[0;32m    440\u001b[0m                 \u001b[0mapplied\u001b[0m \u001b[1;33m=\u001b[0m \u001b[0mb\u001b[0m\u001b[1;33m.\u001b[0m\u001b[0mapply\u001b[0m\u001b[1;33m(\u001b[0m\u001b[0mf\u001b[0m\u001b[1;33m,\u001b[0m \u001b[1;33m**\u001b[0m\u001b[0mkwargs\u001b[0m\u001b[1;33m)\u001b[0m\u001b[1;33m\u001b[0m\u001b[1;33m\u001b[0m\u001b[0m\n\u001b[0;32m    441\u001b[0m             \u001b[1;32melse\u001b[0m\u001b[1;33m:\u001b[0m\u001b[1;33m\u001b[0m\u001b[1;33m\u001b[0m\u001b[0m\n\u001b[1;32m--> 442\u001b[1;33m                 \u001b[0mapplied\u001b[0m \u001b[1;33m=\u001b[0m \u001b[0mgetattr\u001b[0m\u001b[1;33m(\u001b[0m\u001b[0mb\u001b[0m\u001b[1;33m,\u001b[0m \u001b[0mf\u001b[0m\u001b[1;33m)\u001b[0m\u001b[1;33m(\u001b[0m\u001b[1;33m**\u001b[0m\u001b[0mkwargs\u001b[0m\u001b[1;33m)\u001b[0m\u001b[1;33m\u001b[0m\u001b[1;33m\u001b[0m\u001b[0m\n\u001b[0m\u001b[0;32m    443\u001b[0m             \u001b[0mresult_blocks\u001b[0m \u001b[1;33m=\u001b[0m \u001b[0m_extend_blocks\u001b[0m\u001b[1;33m(\u001b[0m\u001b[0mapplied\u001b[0m\u001b[1;33m,\u001b[0m \u001b[0mresult_blocks\u001b[0m\u001b[1;33m)\u001b[0m\u001b[1;33m\u001b[0m\u001b[1;33m\u001b[0m\u001b[0m\n\u001b[0;32m    444\u001b[0m \u001b[1;33m\u001b[0m\u001b[0m\n",
      "\u001b[1;32m~\\anaconda3\\New folder\\lib\\site-packages\\pandas\\core\\internals\\blocks.py\u001b[0m in \u001b[0;36mastype\u001b[1;34m(self, dtype, copy, errors)\u001b[0m\n\u001b[0;32m    623\u001b[0m             \u001b[0mvals1d\u001b[0m \u001b[1;33m=\u001b[0m \u001b[0mvalues\u001b[0m\u001b[1;33m.\u001b[0m\u001b[0mravel\u001b[0m\u001b[1;33m(\u001b[0m\u001b[1;33m)\u001b[0m\u001b[1;33m\u001b[0m\u001b[1;33m\u001b[0m\u001b[0m\n\u001b[0;32m    624\u001b[0m             \u001b[1;32mtry\u001b[0m\u001b[1;33m:\u001b[0m\u001b[1;33m\u001b[0m\u001b[1;33m\u001b[0m\u001b[0m\n\u001b[1;32m--> 625\u001b[1;33m                 \u001b[0mvalues\u001b[0m \u001b[1;33m=\u001b[0m \u001b[0mastype_nansafe\u001b[0m\u001b[1;33m(\u001b[0m\u001b[0mvals1d\u001b[0m\u001b[1;33m,\u001b[0m \u001b[0mdtype\u001b[0m\u001b[1;33m,\u001b[0m \u001b[0mcopy\u001b[0m\u001b[1;33m=\u001b[0m\u001b[1;32mTrue\u001b[0m\u001b[1;33m)\u001b[0m\u001b[1;33m\u001b[0m\u001b[1;33m\u001b[0m\u001b[0m\n\u001b[0m\u001b[0;32m    626\u001b[0m             \u001b[1;32mexcept\u001b[0m \u001b[1;33m(\u001b[0m\u001b[0mValueError\u001b[0m\u001b[1;33m,\u001b[0m \u001b[0mTypeError\u001b[0m\u001b[1;33m)\u001b[0m\u001b[1;33m:\u001b[0m\u001b[1;33m\u001b[0m\u001b[1;33m\u001b[0m\u001b[0m\n\u001b[0;32m    627\u001b[0m                 \u001b[1;31m# e.g. astype_nansafe can fail on object-dtype of strings\u001b[0m\u001b[1;33m\u001b[0m\u001b[1;33m\u001b[0m\u001b[1;33m\u001b[0m\u001b[0m\n",
      "\u001b[1;32m~\\anaconda3\\New folder\\lib\\site-packages\\pandas\\core\\dtypes\\cast.py\u001b[0m in \u001b[0;36mastype_nansafe\u001b[1;34m(arr, dtype, copy, skipna)\u001b[0m\n\u001b[0;32m    872\u001b[0m         \u001b[1;31m# work around NumPy brokenness, #1987\u001b[0m\u001b[1;33m\u001b[0m\u001b[1;33m\u001b[0m\u001b[1;33m\u001b[0m\u001b[0m\n\u001b[0;32m    873\u001b[0m         \u001b[1;32mif\u001b[0m \u001b[0mnp\u001b[0m\u001b[1;33m.\u001b[0m\u001b[0missubdtype\u001b[0m\u001b[1;33m(\u001b[0m\u001b[0mdtype\u001b[0m\u001b[1;33m.\u001b[0m\u001b[0mtype\u001b[0m\u001b[1;33m,\u001b[0m \u001b[0mnp\u001b[0m\u001b[1;33m.\u001b[0m\u001b[0minteger\u001b[0m\u001b[1;33m)\u001b[0m\u001b[1;33m:\u001b[0m\u001b[1;33m\u001b[0m\u001b[1;33m\u001b[0m\u001b[0m\n\u001b[1;32m--> 874\u001b[1;33m             \u001b[1;32mreturn\u001b[0m \u001b[0mlib\u001b[0m\u001b[1;33m.\u001b[0m\u001b[0mastype_intsafe\u001b[0m\u001b[1;33m(\u001b[0m\u001b[0marr\u001b[0m\u001b[1;33m.\u001b[0m\u001b[0mravel\u001b[0m\u001b[1;33m(\u001b[0m\u001b[1;33m)\u001b[0m\u001b[1;33m,\u001b[0m \u001b[0mdtype\u001b[0m\u001b[1;33m)\u001b[0m\u001b[1;33m.\u001b[0m\u001b[0mreshape\u001b[0m\u001b[1;33m(\u001b[0m\u001b[0marr\u001b[0m\u001b[1;33m.\u001b[0m\u001b[0mshape\u001b[0m\u001b[1;33m)\u001b[0m\u001b[1;33m\u001b[0m\u001b[1;33m\u001b[0m\u001b[0m\n\u001b[0m\u001b[0;32m    875\u001b[0m \u001b[1;33m\u001b[0m\u001b[0m\n\u001b[0;32m    876\u001b[0m         \u001b[1;31m# if we have a datetime/timedelta array of objects\u001b[0m\u001b[1;33m\u001b[0m\u001b[1;33m\u001b[0m\u001b[1;33m\u001b[0m\u001b[0m\n",
      "\u001b[1;32mpandas\\_libs\\lib.pyx\u001b[0m in \u001b[0;36mpandas._libs.lib.astype_intsafe\u001b[1;34m()\u001b[0m\n",
      "\u001b[1;31mValueError\u001b[0m: invalid literal for int() with base 10: '#NAME?'"
     ]
    }
   ],
   "source": [
    "df['age'].astype(int)"
   ]
  },
  {
   "cell_type": "code",
   "execution_count": 36,
   "metadata": {},
   "outputs": [
    {
     "data": {
      "text/plain": [
       "age                 0\n",
       "workclass         331\n",
       "fnlwgt              0\n",
       "education          57\n",
       "education_num       0\n",
       "marital_status      0\n",
       "occupation        331\n",
       "relationship        0\n",
       "race                0\n",
       "sex                 0\n",
       "capital_gain        0\n",
       "capital_loss        0\n",
       "hours_per_week      0\n",
       "native_country     97\n",
       "income              0\n",
       "dtype: int64"
      ]
     },
     "execution_count": 36,
     "metadata": {},
     "output_type": "execute_result"
    }
   ],
   "source": [
    "df.isin(['?']).sum(axis=0)"
   ]
  },
  {
   "cell_type": "code",
   "execution_count": 37,
   "metadata": {},
   "outputs": [
    {
     "name": "stderr",
     "output_type": "stream",
     "text": [
      "C:\\Users\\Kannan\\anaconda3\\New folder\\lib\\site-packages\\pandas\\core\\ops\\array_ops.py:253: FutureWarning: elementwise comparison failed; returning scalar instead, but in the future will perform elementwise comparison\n",
      "  res_values = method(rvalues)\n"
     ]
    }
   ],
   "source": [
    "df[df == '?'] = np.nan"
   ]
  },
  {
   "cell_type": "code",
   "execution_count": 38,
   "metadata": {},
   "outputs": [],
   "source": [
    "df[df == '#NAME?'] = np.nan"
   ]
  },
  {
   "cell_type": "code",
   "execution_count": 39,
   "metadata": {},
   "outputs": [],
   "source": [
    "for col in ['age','workclass', 'occupation', 'native_country']:\n",
    "    df[col].fillna(df[col].mode()[0], inplace=True)"
   ]
  },
  {
   "cell_type": "code",
   "execution_count": 40,
   "metadata": {},
   "outputs": [],
   "source": [
    "df['income'] = df['income'].map({'<=50K': 0, '>50K': 1}).astype(int)"
   ]
  },
  {
   "cell_type": "code",
   "execution_count": 13,
   "metadata": {},
   "outputs": [
    {
     "data": {
      "text/plain": [
       "<matplotlib.axes._subplots.AxesSubplot at 0xbd521c8>"
      ]
     },
     "execution_count": 13,
     "metadata": {},
     "output_type": "execute_result"
    },
    {
     "data": {
      "image/png": "[encoded data removed]",
      "text/plain": [
       "<Figure size 432x288 with 1 Axes>"
      ]
     },
     "metadata": {
      "needs_background": "light"
     },
     "output_type": "display_data"
    }
   ],
   "source": [
    "sns.countplot(y='occupation', hue='income', data=df)"
   ]
  },
  {
   "cell_type": "code",
   "execution_count": 14,
   "metadata": {},
   "outputs": [
    {
     "data": {
      "text/plain": [
       "<matplotlib.axes._subplots.AxesSubplot at 0xc297dc8>"
      ]
     },
     "execution_count": 14,
     "metadata": {},
     "output_type": "execute_result"
    },
    {
     "data": {
      "image/png": "[encoded data removed]",
      "text/plain": [
       "<Figure size 432x288 with 1 Axes>"
      ]
     },
     "metadata": {
      "needs_background": "light"
     },
     "output_type": "display_data"
    }
   ],
   "source": [
    "sns.countplot(y='education', hue='income', data=df)"
   ]
  },
  {
   "cell_type": "code",
   "execution_count": 41,
   "metadata": {},
   "outputs": [
    {
     "data": {
      "text/plain": [
       "0.0"
      ]
     },
     "execution_count": 41,
     "metadata": {},
     "output_type": "execute_result"
    }
   ],
   "source": [
    "df['age'].isna().astype('int').mean()"
   ]
  },
  {
   "cell_type": "code",
   "execution_count": 42,
   "metadata": {},
   "outputs": [
    {
     "data": {
      "text/plain": [
       "age               object\n",
       "workclass         object\n",
       "fnlwgt            object\n",
       "education         object\n",
       "education_num     object\n",
       "marital_status    object\n",
       "occupation        object\n",
       "relationship      object\n",
       "race              object\n",
       "sex               object\n",
       "capital_gain       int64\n",
       "capital_loss       int64\n",
       "hours_per_week     int64\n",
       "native_country    object\n",
       "income             int32\n",
       "dtype: object"
      ]
     },
     "execution_count": 42,
     "metadata": {},
     "output_type": "execute_result"
    }
   ],
   "source": [
    "df.dtypes"
   ]
  },
  {
   "cell_type": "code",
   "execution_count": 43,
   "metadata": {},
   "outputs": [],
   "source": [
    "df['age'] = df['age'].astype('int')"
   ]
  },
  {
   "cell_type": "code",
   "execution_count": 44,
   "metadata": {},
   "outputs": [
    {
     "data": {
      "text/plain": [
       "age                int32\n",
       "workclass         object\n",
       "fnlwgt            object\n",
       "education         object\n",
       "education_num     object\n",
       "marital_status    object\n",
       "occupation        object\n",
       "relationship      object\n",
       "race              object\n",
       "sex               object\n",
       "capital_gain       int64\n",
       "capital_loss       int64\n",
       "hours_per_week     int64\n",
       "native_country    object\n",
       "income             int32\n",
       "dtype: object"
      ]
     },
     "execution_count": 44,
     "metadata": {},
     "output_type": "execute_result"
    }
   ],
   "source": [
    "df.dtypes"
   ]
  },
  {
   "cell_type": "code",
   "execution_count": 45,
   "metadata": {},
   "outputs": [],
   "source": [
    "df[\"fnlwgt\"]= df[[\"fnlwgt\"]].astype(np.float)\n",
    "df[\"education_num\"]= df[[\"education_num\"]].astype(np.float)"
   ]
  },
  {
   "cell_type": "code",
   "execution_count": 46,
   "metadata": {},
   "outputs": [
    {
     "data": {
      "text/plain": [
       "107"
      ]
     },
     "execution_count": 46,
     "metadata": {},
     "output_type": "execute_result"
    }
   ],
   "source": [
    "df[\"fnlwgt\"].isna().sum()"
   ]
  },
  {
   "cell_type": "code",
   "execution_count": 47,
   "metadata": {},
   "outputs": [],
   "source": [
    "df['fnlwgt'] = df['fnlwgt'].fillna(df['fnlwgt'].mean())"
   ]
  },
  {
   "cell_type": "code",
   "execution_count": 50,
   "metadata": {},
   "outputs": [
    {
     "data": {
      "text/plain": [
       "age                 0\n",
       "workclass           0\n",
       "fnlwgt              0\n",
       "education          57\n",
       "education_num       0\n",
       "marital_status      0\n",
       "occupation          0\n",
       "relationship        0\n",
       "race              264\n",
       "sex                47\n",
       "capital_gain        0\n",
       "capital_loss        0\n",
       "hours_per_week      0\n",
       "native_country      0\n",
       "income              0\n",
       "dtype: int64"
      ]
     },
     "execution_count": 50,
     "metadata": {},
     "output_type": "execute_result"
    }
   ],
   "source": [
    "df.isna().sum()"
   ]
  },
  {
   "cell_type": "code",
   "execution_count": 49,
   "metadata": {},
   "outputs": [],
   "source": [
    "df[\"education_num\"]=df.groupby(\"age\")[\"education_num\"].transform(lambda x:x.fillna(x.mode()[0]))"
   ]
  },
  {
   "cell_type": "code",
   "execution_count": 52,
   "metadata": {},
   "outputs": [],
   "source": [
    "df[\"education\"]=df.groupby(\"age\")[\"education\"].transform(lambda x:x.fillna(x.mode()[0]))"
   ]
  },
  {
   "cell_type": "code",
   "execution_count": 54,
   "metadata": {},
   "outputs": [],
   "source": [
    "df[\"race\"].fillna(df[\"race\"].mode()[0],inplace=True)"
   ]
  },
  {
   "cell_type": "code",
   "execution_count": 55,
   "metadata": {},
   "outputs": [],
   "source": [
    "df[\"sex\"].fillna(df[\"sex\"].mode()[0],inplace=True)"
   ]
  },
  {
   "cell_type": "code",
   "execution_count": 57,
   "metadata": {},
   "outputs": [],
   "source": [
    "Encode_df = pd.get_dummies(df[[\"workclass\",\"marital_status\",\"occupation\",\"relationship\",\"race\",\"sex\",\"native_country\"]])"
   ]
  },
  {
   "cell_type": "code",
   "execution_count": 56,
   "metadata": {},
   "outputs": [
    {
     "data": {
      "text/plain": [
       "age               0\n",
       "workclass         0\n",
       "fnlwgt            0\n",
       "education         0\n",
       "education_num     0\n",
       "marital_status    0\n",
       "occupation        0\n",
       "relationship      0\n",
       "race              0\n",
       "sex               0\n",
       "capital_gain      0\n",
       "capital_loss      0\n",
       "hours_per_week    0\n",
       "native_country    0\n",
       "income            0\n",
       "dtype: int64"
      ]
     },
     "execution_count": 56,
     "metadata": {},
     "output_type": "execute_result"
    }
   ],
   "source": [
    "df.isna().sum()"
   ]
  },
  {
   "cell_type": "code",
   "execution_count": 58,
   "metadata": {},
   "outputs": [],
   "source": [
    "df = pd.concat([Encode_df,df[[\"age\",\"fnlwgt\",\"education_num\",\"capital_gain\",\"capital_loss\",\"hours_per_week\",\"income\"]]],axis=1)"
   ]
  },
  {
   "cell_type": "code",
   "execution_count": 62,
   "metadata": {},
   "outputs": [],
   "source": [
    "X = df.drop(['income'], axis=1)"
   ]
  },
  {
   "cell_type": "code",
   "execution_count": 63,
   "metadata": {},
   "outputs": [],
   "source": [
    "y = df['income']"
   ]
  },
  {
   "cell_type": "code",
   "execution_count": 64,
   "metadata": {},
   "outputs": [],
   "source": [
    "from sklearn.model_selection import train_test_split\n",
    "\n",
    "X_train, X_test, y_train, y_test = train_test_split(X, y, test_size = 0.3, random_state = 101)"
   ]
  },
  {
   "cell_type": "code",
   "execution_count": null,
   "metadata": {},
   "outputs": [],
   "source": []
  },
  {
   "cell_type": "code",
   "execution_count": null,
   "metadata": {},
   "outputs": [],
   "source": []
  },
  {
   "cell_type": "code",
   "execution_count": 65,
   "metadata": {},
   "outputs": [],
   "source": [
    "from sklearn.preprocessing import StandardScaler"
   ]
  },
  {
   "cell_type": "code",
   "execution_count": 66,
   "metadata": {},
   "outputs": [],
   "source": [
    "scalar=StandardScaler()"
   ]
  },
  {
   "cell_type": "code",
   "execution_count": 67,
   "metadata": {},
   "outputs": [],
   "source": [
    "X_train = pd.DataFrame(scalar.fit_transform(X_train), columns = X.columns)\n",
    "\n",
    "X_test = pd.DataFrame(scalar.transform(X_test), columns = X.columns)"
   ]
  },
  {
   "cell_type": "code",
   "execution_count": 68,
   "metadata": {},
   "outputs": [],
   "source": [
    "from sklearn.linear_model import LinearRegression, Lasso, Ridge"
   ]
  },
  {
   "cell_type": "code",
   "execution_count": 69,
   "metadata": {},
   "outputs": [],
   "source": [
    "lr = LinearRegression()"
   ]
  },
  {
   "cell_type": "code",
   "execution_count": 70,
   "metadata": {},
   "outputs": [
    {
     "data": {
      "text/plain": [
       "LinearRegression(copy_X=True, fit_intercept=True, n_jobs=None, normalize=False)"
      ]
     },
     "execution_count": 70,
     "metadata": {},
     "output_type": "execute_result"
    }
   ],
   "source": [
    "lr.fit(X_train,y_train)"
   ]
  },
  {
   "cell_type": "code",
   "execution_count": 71,
   "metadata": {},
   "outputs": [
    {
     "data": {
      "text/plain": [
       "array([-2.62759939e+11, -3.82435380e+11, -6.63644717e+11, -2.91293799e+11,\n",
       "       -4.06771796e+11, -2.92368626e+11, -2.60325424e+10, -6.46443723e+11,\n",
       "       -4.51473216e+10, -9.40833335e+11, -2.05704707e+11, -8.91772935e+11,\n",
       "       -3.23754595e+11, -3.28158935e+11, -1.93317856e+11, -1.03255832e+10,\n",
       "       -2.03334363e+11, -1.99351136e+11, -1.03739256e+11, -1.20538876e+11,\n",
       "       -1.49844060e+11, -1.83751678e+11, -3.71655248e+10, -2.38986714e+11,\n",
       "       -8.12274204e+10, -1.92675351e+11, -1.02767169e+11, -1.36000624e+11,\n",
       "       -1.51487704e+12, -1.34970551e+12, -5.24744284e+11, -1.11969276e+12,\n",
       "       -9.59200851e+11, -6.66196212e+11, -9.63067861e+11, -1.74531734e+12,\n",
       "       -2.97497802e+12, -7.93799380e+11, -3.53278341e+12,  2.92671911e+12,\n",
       "        2.92671911e+12, -8.73540458e+10, -2.13513439e+11, -1.74483129e+11,\n",
       "       -8.73540458e+10, -1.51171791e+11, -1.59326235e+11, -1.00853341e+11,\n",
       "       -1.51171791e+11, -1.67078823e+11, -7.13344769e+10, -2.01360205e+11,\n",
       "       -1.00853341e+11, -1.33359173e+11, -7.13344769e+10, -8.73540458e+10,\n",
       "       -1.92927363e+11, -1.51171791e+11, -1.12741335e+11, -7.13344769e+10,\n",
       "       -1.67078823e+11, -1.42546544e+11, -1.33359173e+11, -5.04483018e+10,\n",
       "       -4.48814253e+11, -1.00853341e+11, -7.13344769e+10, -7.13344769e+10,\n",
       "       -1.94994158e+11, -1.33359173e+11, -1.00853341e+11, -1.88409280e+11,\n",
       "       -5.04483018e+10, -1.23484275e+11, -1.12741335e+11, -7.13344769e+10,\n",
       "       -8.73540458e+10, -8.49340893e+11, -1.33359173e+11, -7.13344769e+10,\n",
       "        3.57055664e-02,  1.65176392e-03,  8.25805664e-02,  5.54199219e-02,\n",
       "        3.63922119e-02,  5.21392822e-02])"
      ]
     },
     "execution_count": 71,
     "metadata": {},
     "output_type": "execute_result"
    }
   ],
   "source": [
    "lr.coef_"
   ]
  },
  {
   "cell_type": "code",
   "execution_count": 72,
   "metadata": {},
   "outputs": [
    {
     "data": {
      "text/plain": [
       "0.24380293788610558"
      ]
     },
     "execution_count": 72,
     "metadata": {},
     "output_type": "execute_result"
    }
   ],
   "source": [
    "lr.intercept_"
   ]
  },
  {
   "cell_type": "code",
   "execution_count": 73,
   "metadata": {},
   "outputs": [],
   "source": [
    "predictions = lr.predict(X_test)"
   ]
  },
  {
   "cell_type": "code",
   "execution_count": 74,
   "metadata": {},
   "outputs": [],
   "source": [
    "from sklearn.metrics import mean_absolute_error, mean_squared_error, r2_score"
   ]
  },
  {
   "cell_type": "code",
   "execution_count": 75,
   "metadata": {},
   "outputs": [
    {
     "name": "stdout",
     "output_type": "stream",
     "text": [
      "1861373919.8241591\n",
      "5.197069302593142e+21\n",
      "72090701914.97057\n",
      "-2.7866921020253215e+22\n"
     ]
    }
   ],
   "source": [
    "print(mean_absolute_error(y_test,predictions))\n",
    "print(mean_squared_error(y_test,predictions))\n",
    "print(np.sqrt(mean_squared_error(y_test,predictions)))\n",
    "print(r2_score(y_test,predictions))"
   ]
  },
  {
   "cell_type": "code",
   "execution_count": null,
   "metadata": {},
   "outputs": [],
   "source": []
  },
  {
   "cell_type": "code",
   "execution_count": null,
   "metadata": {},
   "outputs": [],
   "source": []
  },
  {
   "cell_type": "code",
   "execution_count": null,
   "metadata": {},
   "outputs": [],
   "source": []
  },
  {
   "cell_type": "code",
   "execution_count": 77,
   "metadata": {},
   "outputs": [],
   "source": [
    "from sklearn.linear_model import LogisticRegression"
   ]
  },
  {
   "cell_type": "code",
   "execution_count": 78,
   "metadata": {},
   "outputs": [],
   "source": [
    "lr = LogisticRegression()"
   ]
  },
  {
   "cell_type": "code",
   "execution_count": 79,
   "metadata": {},
   "outputs": [
    {
     "data": {
      "text/plain": [
       "LogisticRegression(C=1.0, class_weight=None, dual=False, fit_intercept=True,\n",
       "                   intercept_scaling=1, l1_ratio=None, max_iter=100,\n",
       "                   multi_class='auto', n_jobs=None, penalty='l2',\n",
       "                   random_state=None, solver='lbfgs', tol=0.0001, verbose=0,\n",
       "                   warm_start=False)"
      ]
     },
     "execution_count": 79,
     "metadata": {},
     "output_type": "execute_result"
    }
   ],
   "source": [
    "lr.fit(X_train,y_train)"
   ]
  },
  {
   "cell_type": "code",
   "execution_count": 80,
   "metadata": {},
   "outputs": [
    {
     "data": {
      "text/plain": [
       "array([-2.19540545])"
      ]
     },
     "execution_count": 80,
     "metadata": {},
     "output_type": "execute_result"
    }
   ],
   "source": [
    "lr.intercept_"
   ]
  },
  {
   "cell_type": "code",
   "execution_count": 82,
   "metadata": {},
   "outputs": [
    {
     "data": {
      "text/plain": [
       "array([[ 1.68372213e-01, -4.46570216e-02,  1.91958311e-03,\n",
       "         7.57733585e-02, -1.15527946e-01, -8.58713739e-03,\n",
       "        -3.86116097e-02, -2.65990130e-01, -1.22007868e-01,\n",
       "         7.12186918e-01, -1.19686595e-01, -4.67458719e-01,\n",
       "        -1.07451677e-01, -4.97262449e-02, -1.24120655e-01,\n",
       "        -8.24713917e-02,  4.07183049e-02,  2.39737144e-01,\n",
       "        -2.80744067e-01, -1.43855942e-02, -1.13088380e-01,\n",
       "        -1.55613743e-01, -2.03973576e-01,  1.08843659e-01,\n",
       "         5.46953197e-02,  6.55320514e-02,  7.85089199e-02,\n",
       "         1.17970085e-02,  1.75735601e-02,  1.32666232e-01,\n",
       "        -5.38742056e-02, -4.98986956e-01,  1.51924574e-01,\n",
       "         3.53610473e-01, -7.03049676e-02,  7.76165697e-02,\n",
       "        -2.75623561e-02, -1.01292639e-01,  2.67908716e-02,\n",
       "        -1.25538805e-01,  1.25538805e-01,  8.74480995e-02,\n",
       "         6.00029285e-02, -8.88815624e-02, -1.43510718e-01,\n",
       "        -4.80163376e-02, -1.69991241e-01, -1.08258038e-01,\n",
       "        -2.38350402e-01, -2.22632026e-02,  3.33929151e-02,\n",
       "         4.72339920e-02, -6.66471998e-02,  4.84571907e-02,\n",
       "        -1.24055422e-01, -2.95259878e-02,  0.00000000e+00,\n",
       "        -1.81993281e-02,  7.81915006e-02, -9.08386640e-02,\n",
       "         1.02928200e-01,  4.56538416e-02, -2.90766880e-02,\n",
       "        -8.55544553e-02, -2.27866186e-02, -1.65973443e-01,\n",
       "        -9.33029236e-02,  5.07106528e-02,  2.63016649e-02,\n",
       "        -3.21485971e-02,  6.06861191e-02,  3.71390561e-02,\n",
       "        -7.89172614e-02, -1.99323709e-02,  8.04277498e-02,\n",
       "        -2.18081079e-02, -1.22655632e-01,  1.37010414e-01,\n",
       "        -4.18015349e-02, -1.09308098e-01,  3.45066134e-01,\n",
       "        -7.16894101e-04,  7.15495341e-01,  1.73101974e+00,\n",
       "         2.51574734e-01,  5.27585293e-01]])"
      ]
     },
     "execution_count": 82,
     "metadata": {},
     "output_type": "execute_result"
    }
   ],
   "source": [
    "lr.coef_"
   ]
  },
  {
   "cell_type": "code",
   "execution_count": 83,
   "metadata": {},
   "outputs": [],
   "source": [
    "predict = lr.predict(X_test)"
   ]
  },
  {
   "cell_type": "code",
   "execution_count": 84,
   "metadata": {},
   "outputs": [],
   "source": [
    "from sklearn.metrics import accuracy_score, classification_report, confusion_matrix,roc_auc_score"
   ]
  },
  {
   "cell_type": "code",
   "execution_count": 85,
   "metadata": {},
   "outputs": [
    {
     "name": "stdout",
     "output_type": "stream",
     "text": [
      "0.8513333333333334\n"
     ]
    }
   ],
   "source": [
    "print(accuracy_score(y_test,predict))"
   ]
  },
  {
   "cell_type": "code",
   "execution_count": 86,
   "metadata": {},
   "outputs": [
    {
     "name": "stdout",
     "output_type": "stream",
     "text": [
      "[[1056   72]\n",
      " [ 151  221]]\n"
     ]
    }
   ],
   "source": [
    "print(confusion_matrix(y_test,predict))"
   ]
  },
  {
   "cell_type": "code",
   "execution_count": 87,
   "metadata": {},
   "outputs": [
    {
     "name": "stdout",
     "output_type": "stream",
     "text": [
      "              precision    recall  f1-score   support\n",
      "\n",
      "           0       0.87      0.94      0.90      1128\n",
      "           1       0.75      0.59      0.66       372\n",
      "\n",
      "    accuracy                           0.85      1500\n",
      "   macro avg       0.81      0.77      0.78      1500\n",
      "weighted avg       0.84      0.85      0.85      1500\n",
      "\n"
     ]
    }
   ],
   "source": [
    "print(classification_report(y_test,predict))"
   ]
  },
  {
   "cell_type": "code",
   "execution_count": 89,
   "metadata": {},
   "outputs": [
    {
     "name": "stdout",
     "output_type": "stream",
     "text": [
      "0.765128117135667\n"
     ]
    }
   ],
   "source": [
    "print(roc_auc_score(y_test,predict))"
   ]
  },
  {
   "cell_type": "code",
   "execution_count": null,
   "metadata": {},
   "outputs": [],
   "source": []
  },
  {
   "cell_type": "code",
   "execution_count": null,
   "metadata": {},
   "outputs": [],
   "source": []
  },
  {
   "cell_type": "code",
   "execution_count": null,
   "metadata": {},
   "outputs": [],
   "source": []
  },
  {
   "cell_type": "code",
   "execution_count": null,
   "metadata": {},
   "outputs": [],
   "source": []
  },
  {
   "cell_type": "code",
   "execution_count": 90,
   "metadata": {},
   "outputs": [],
   "source": [
    "from sklearn.tree import DecisionTreeClassifier"
   ]
  },
  {
   "cell_type": "code",
   "execution_count": 91,
   "metadata": {},
   "outputs": [
    {
     "name": "stdout",
     "output_type": "stream",
     "text": [
      "0.804\n"
     ]
    }
   ],
   "source": [
    "dt = DecisionTreeClassifier()\n",
    "dt.fit(X_train,y_train)\n",
    "pred_dt = dt.predict(X_test)\n",
    "print(accuracy_score(y_test, pred_dt))"
   ]
  },
  {
   "cell_type": "code",
   "execution_count": 92,
   "metadata": {},
   "outputs": [],
   "source": [
    "from sklearn.preprocessing import StandardScaler"
   ]
  },
  {
   "cell_type": "code",
   "execution_count": 93,
   "metadata": {},
   "outputs": [],
   "source": [
    "def fit_predict(X_train, X_test, y_train, y_test, scaler, max_depth, \n",
    "                criterion = 'entropy', max_features = 1, min_samples_split = 4):\n",
    "    train_scaled = scaler.fit_transform(X_train)\n",
    "    test_scaled = scaler.transform(X_test)        \n",
    "    dt = DecisionTreeClassifier(criterion = criterion, max_depth=max_depth, \n",
    "                                random_state=42, max_features=max_features,\n",
    "                               min_samples_split=min_samples_split)\n",
    "    dt.fit(train_scaled, y_train)\n",
    "    y_pred = dt.predict(test_scaled)\n",
    "    print(accuracy_score(y_test, y_pred))"
   ]
  },
  {
   "cell_type": "code",
   "execution_count": 94,
   "metadata": {},
   "outputs": [
    {
     "name": "stdout",
     "output_type": "stream",
     "text": [
      "Accuracy score using max_depth = 1: 0.752\n",
      "Accuracy score using max_depth = 2: 0.752\n",
      "Accuracy score using max_depth = 3: 0.752\n",
      "Accuracy score using max_depth = 4: 0.7533333333333333\n",
      "Accuracy score using max_depth = 5: 0.752\n",
      "Accuracy score using max_depth = 6: 0.75\n",
      "Accuracy score using max_depth = 7: 0.752\n",
      "Accuracy score using max_depth = 8: 0.752\n",
      "Accuracy score using max_depth = 9: 0.748\n",
      "Accuracy score using max_depth = 10: 0.7533333333333333\n",
      "Accuracy score using max_depth = 11: 0.7553333333333333\n",
      "Accuracy score using max_depth = 12: 0.7513333333333333\n",
      "Accuracy score using max_depth = 13: 0.7473333333333333\n",
      "Accuracy score using max_depth = 14: 0.7533333333333333\n",
      "Accuracy score using max_depth = 15: 0.7713333333333333\n",
      "Accuracy score using max_depth = 16: 0.7766666666666666\n",
      "Accuracy score using max_depth = 17: 0.8046666666666666\n",
      "Accuracy score using max_depth = 18: 0.766\n",
      "Accuracy score using max_depth = 19: 0.7893333333333333\n"
     ]
    }
   ],
   "source": [
    "for i in range(1, 20):\n",
    "    print('Accuracy score using max_depth =', i, end = ': ')\n",
    "    fit_predict(X_train, X_test, y_train, y_test, StandardScaler(), i)"
   ]
  },
  {
   "cell_type": "code",
   "execution_count": 96,
   "metadata": {},
   "outputs": [
    {
     "name": "stdout",
     "output_type": "stream",
     "text": [
      "Accuracy score using max features = 0.1: 0.8286666666666667\n",
      "Accuracy score using max features = 0.2: 0.7926666666666666\n",
      "Accuracy score using max features = 0.30000000000000004: 0.8013333333333333\n",
      "Accuracy score using max features = 0.4: 0.8246666666666667\n",
      "Accuracy score using max features = 0.5: 0.8113333333333334\n",
      "Accuracy score using max features = 0.6: 0.8166666666666667\n",
      "Accuracy score using max features = 0.7000000000000001: 0.812\n",
      "Accuracy score using max features = 0.8: 0.81\n",
      "Accuracy score using max features = 0.9: 0.808\n"
     ]
    }
   ],
   "source": [
    "for i in np.arange(0.1, 1.0, 0.1):\n",
    "    print('Accuracy score using max features =', i, end = ': ')\n",
    "    fit_predict(X_train, X_test, y_train, y_test, StandardScaler(), \n",
    "                max_depth = 17, \n",
    "                max_features=i)"
   ]
  },
  {
   "cell_type": "code",
   "execution_count": 97,
   "metadata": {},
   "outputs": [
    {
     "name": "stdout",
     "output_type": "stream",
     "text": [
      "Accuracy score using min samples split = 2: 0.804\n",
      "Accuracy score using min samples split = 3: 0.8086666666666666\n",
      "Accuracy score using min samples split = 4: 0.8286666666666667\n",
      "Accuracy score using min samples split = 5: 0.8033333333333333\n",
      "Accuracy score using min samples split = 6: 0.82\n",
      "Accuracy score using min samples split = 7: 0.8073333333333333\n",
      "Accuracy score using min samples split = 8: 0.8206666666666667\n",
      "Accuracy score using min samples split = 9: 0.838\n"
     ]
    }
   ],
   "source": [
    "for i in range(2, 10):\n",
    "    print('Accuracy score using min samples split =', i, end = ': ')\n",
    "    fit_predict(X_train, X_test, y_train, y_test, StandardScaler(), \n",
    "                max_depth = 17, \n",
    "                max_features=0.1, \n",
    "                min_samples_split=i)"
   ]
  },
  {
   "cell_type": "code",
   "execution_count": 99,
   "metadata": {},
   "outputs": [
    {
     "name": "stdout",
     "output_type": "stream",
     "text": [
      "Accuracy score using criterion = gini: 0.8193333333333334\n",
      "Accuracy score using criterion = entropy: 0.838\n"
     ]
    }
   ],
   "source": [
    "for i in ['gini', 'entropy']:\n",
    "    print('Accuracy score using criterion =', i, end = ': ')\n",
    "    fit_predict(X_train, X_test, y_train, y_test, StandardScaler(), \n",
    "                max_depth = 17, \n",
    "                max_features=0.1, \n",
    "                min_samples_split=9, \n",
    "                criterion = i)"
   ]
  },
  {
   "cell_type": "code",
   "execution_count": null,
   "metadata": {},
   "outputs": [],
   "source": []
  },
  {
   "cell_type": "code",
   "execution_count": null,
   "metadata": {},
   "outputs": [],
   "source": []
  },
  {
   "cell_type": "code",
   "execution_count": null,
   "metadata": {},
   "outputs": [],
   "source": []
  },
  {
   "cell_type": "code",
   "execution_count": 100,
   "metadata": {},
   "outputs": [],
   "source": [
    "from sklearn.ensemble import RandomForestClassifier"
   ]
  },
  {
   "cell_type": "code",
   "execution_count": 101,
   "metadata": {},
   "outputs": [
    {
     "name": "stdout",
     "output_type": "stream",
     "text": [
      "0.838\n"
     ]
    }
   ],
   "source": [
    "rf = RandomForestClassifier(criterion='gini',oob_score=True)\n",
    "rf.fit(X_train,y_train)\n",
    "pred_rf = rf.predict(X_test)\n",
    "print(accuracy_score(y_test,pred_rf))"
   ]
  },
  {
   "cell_type": "code",
   "execution_count": 102,
   "metadata": {},
   "outputs": [],
   "source": [
    "from sklearn.model_selection import GridSearchCV"
   ]
  },
  {
   "cell_type": "code",
   "execution_count": 103,
   "metadata": {},
   "outputs": [],
   "source": [
    "params = {'n_estimators':[200,500,700],'max_depth':[5,10,15,18,20],\n",
    "         'min_samples_leaf':[3,5,8]}"
   ]
  },
  {
   "cell_type": "code",
   "execution_count": 104,
   "metadata": {},
   "outputs": [],
   "source": [
    "gs = GridSearchCV(rf,params,verbose=3)"
   ]
  },
  {
   "cell_type": "code",
   "execution_count": 105,
   "metadata": {},
   "outputs": [
    {
     "name": "stdout",
     "output_type": "stream",
     "text": [
      "Fitting 5 folds for each of 45 candidates, totalling 225 fits\n",
      "[CV] max_depth=5, min_samples_leaf=3, n_estimators=200 ...............\n"
     ]
    },
    {
     "name": "stderr",
     "output_type": "stream",
     "text": [
      "[Parallel(n_jobs=1)]: Using backend SequentialBackend with 1 concurrent workers.\n"
     ]
    },
    {
     "name": "stdout",
     "output_type": "stream",
     "text": [
      "[CV]  max_depth=5, min_samples_leaf=3, n_estimators=200, score=0.820, total=   0.9s\n",
      "[CV] max_depth=5, min_samples_leaf=3, n_estimators=200 ...............\n"
     ]
    },
    {
     "name": "stderr",
     "output_type": "stream",
     "text": [
      "[Parallel(n_jobs=1)]: Done   1 out of   1 | elapsed:    0.8s remaining:    0.0s\n"
     ]
    },
    {
     "name": "stdout",
     "output_type": "stream",
     "text": [
      "[CV]  max_depth=5, min_samples_leaf=3, n_estimators=200, score=0.830, total=   0.9s\n",
      "[CV] max_depth=5, min_samples_leaf=3, n_estimators=200 ...............\n"
     ]
    },
    {
     "name": "stderr",
     "output_type": "stream",
     "text": [
      "[Parallel(n_jobs=1)]: Done   2 out of   2 | elapsed:    1.7s remaining:    0.0s\n"
     ]
    },
    {
     "name": "stdout",
     "output_type": "stream",
     "text": [
      "[CV]  max_depth=5, min_samples_leaf=3, n_estimators=200, score=0.829, total=   0.9s\n",
      "[CV] max_depth=5, min_samples_leaf=3, n_estimators=200 ...............\n",
      "[CV]  max_depth=5, min_samples_leaf=3, n_estimators=200, score=0.840, total=   0.9s\n",
      "[CV] max_depth=5, min_samples_leaf=3, n_estimators=200 ...............\n",
      "[CV]  max_depth=5, min_samples_leaf=3, n_estimators=200, score=0.827, total=   1.0s\n",
      "[CV] max_depth=5, min_samples_leaf=3, n_estimators=500 ...............\n",
      "[CV]  max_depth=5, min_samples_leaf=3, n_estimators=500, score=0.827, total=   2.3s\n",
      "[CV] max_depth=5, min_samples_leaf=3, n_estimators=500 ...............\n",
      "[CV]  max_depth=5, min_samples_leaf=3, n_estimators=500, score=0.826, total=   2.2s\n",
      "[CV] max_depth=5, min_samples_leaf=3, n_estimators=500 ...............\n",
      "[CV]  max_depth=5, min_samples_leaf=3, n_estimators=500, score=0.831, total=   2.0s\n",
      "[CV] max_depth=5, min_samples_leaf=3, n_estimators=500 ...............\n",
      "[CV]  max_depth=5, min_samples_leaf=3, n_estimators=500, score=0.847, total=   2.1s\n",
      "[CV] max_depth=5, min_samples_leaf=3, n_estimators=500 ...............\n",
      "[CV]  max_depth=5, min_samples_leaf=3, n_estimators=500, score=0.829, total=   2.1s\n",
      "[CV] max_depth=5, min_samples_leaf=3, n_estimators=700 ...............\n",
      "[CV]  max_depth=5, min_samples_leaf=3, n_estimators=700, score=0.827, total=   2.9s\n",
      "[CV] max_depth=5, min_samples_leaf=3, n_estimators=700 ...............\n",
      "[CV]  max_depth=5, min_samples_leaf=3, n_estimators=700, score=0.826, total=   2.9s\n",
      "[CV] max_depth=5, min_samples_leaf=3, n_estimators=700 ...............\n",
      "[CV]  max_depth=5, min_samples_leaf=3, n_estimators=700, score=0.829, total=   3.0s\n",
      "[CV] max_depth=5, min_samples_leaf=3, n_estimators=700 ...............\n",
      "[CV]  max_depth=5, min_samples_leaf=3, n_estimators=700, score=0.847, total=   2.9s\n",
      "[CV] max_depth=5, min_samples_leaf=3, n_estimators=700 ...............\n",
      "[CV]  max_depth=5, min_samples_leaf=3, n_estimators=700, score=0.826, total=   3.0s\n",
      "[CV] max_depth=5, min_samples_leaf=5, n_estimators=200 ...............\n",
      "[CV]  max_depth=5, min_samples_leaf=5, n_estimators=200, score=0.823, total=   0.9s\n",
      "[CV] max_depth=5, min_samples_leaf=5, n_estimators=200 ...............\n",
      "[CV]  max_depth=5, min_samples_leaf=5, n_estimators=200, score=0.824, total=   0.8s\n",
      "[CV] max_depth=5, min_samples_leaf=5, n_estimators=200 ...............\n",
      "[CV]  max_depth=5, min_samples_leaf=5, n_estimators=200, score=0.827, total=   0.9s\n",
      "[CV] max_depth=5, min_samples_leaf=5, n_estimators=200 ...............\n",
      "[CV]  max_depth=5, min_samples_leaf=5, n_estimators=200, score=0.847, total=   0.8s\n",
      "[CV] max_depth=5, min_samples_leaf=5, n_estimators=200 ...............\n",
      "[CV]  max_depth=5, min_samples_leaf=5, n_estimators=200, score=0.826, total=   0.9s\n",
      "[CV] max_depth=5, min_samples_leaf=5, n_estimators=500 ...............\n",
      "[CV]  max_depth=5, min_samples_leaf=5, n_estimators=500, score=0.827, total=   2.1s\n",
      "[CV] max_depth=5, min_samples_leaf=5, n_estimators=500 ...............\n",
      "[CV]  max_depth=5, min_samples_leaf=5, n_estimators=500, score=0.823, total=   2.1s\n",
      "[CV] max_depth=5, min_samples_leaf=5, n_estimators=500 ...............\n",
      "[CV]  max_depth=5, min_samples_leaf=5, n_estimators=500, score=0.830, total=   2.0s\n",
      "[CV] max_depth=5, min_samples_leaf=5, n_estimators=500 ...............\n",
      "[CV]  max_depth=5, min_samples_leaf=5, n_estimators=500, score=0.846, total=   2.0s\n",
      "[CV] max_depth=5, min_samples_leaf=5, n_estimators=500 ...............\n",
      "[CV]  max_depth=5, min_samples_leaf=5, n_estimators=500, score=0.829, total=   2.1s\n",
      "[CV] max_depth=5, min_samples_leaf=5, n_estimators=700 ...............\n",
      "[CV]  max_depth=5, min_samples_leaf=5, n_estimators=700, score=0.811, total=   2.7s\n",
      "[CV] max_depth=5, min_samples_leaf=5, n_estimators=700 ...............\n",
      "[CV]  max_depth=5, min_samples_leaf=5, n_estimators=700, score=0.830, total=   2.8s\n",
      "[CV] max_depth=5, min_samples_leaf=5, n_estimators=700 ...............\n",
      "[CV]  max_depth=5, min_samples_leaf=5, n_estimators=700, score=0.829, total=   2.9s\n",
      "[CV] max_depth=5, min_samples_leaf=5, n_estimators=700 ...............\n",
      "[CV]  max_depth=5, min_samples_leaf=5, n_estimators=700, score=0.846, total=   2.8s\n",
      "[CV] max_depth=5, min_samples_leaf=5, n_estimators=700 ...............\n",
      "[CV]  max_depth=5, min_samples_leaf=5, n_estimators=700, score=0.830, total=   2.9s\n",
      "[CV] max_depth=5, min_samples_leaf=8, n_estimators=200 ...............\n",
      "[CV]  max_depth=5, min_samples_leaf=8, n_estimators=200, score=0.823, total=   0.9s\n",
      "[CV] max_depth=5, min_samples_leaf=8, n_estimators=200 ...............\n",
      "[CV]  max_depth=5, min_samples_leaf=8, n_estimators=200, score=0.829, total=   0.8s\n",
      "[CV] max_depth=5, min_samples_leaf=8, n_estimators=200 ...............\n",
      "[CV]  max_depth=5, min_samples_leaf=8, n_estimators=200, score=0.824, total=   0.9s\n",
      "[CV] max_depth=5, min_samples_leaf=8, n_estimators=200 ...............\n",
      "[CV]  max_depth=5, min_samples_leaf=8, n_estimators=200, score=0.849, total=   0.8s\n",
      "[CV] max_depth=5, min_samples_leaf=8, n_estimators=200 ...............\n",
      "[CV]  max_depth=5, min_samples_leaf=8, n_estimators=200, score=0.824, total=   0.8s\n",
      "[CV] max_depth=5, min_samples_leaf=8, n_estimators=500 ...............\n",
      "[CV]  max_depth=5, min_samples_leaf=8, n_estimators=500, score=0.824, total=   2.1s\n",
      "[CV] max_depth=5, min_samples_leaf=8, n_estimators=500 ...............\n",
      "[CV]  max_depth=5, min_samples_leaf=8, n_estimators=500, score=0.827, total=   2.0s\n",
      "[CV] max_depth=5, min_samples_leaf=8, n_estimators=500 ...............\n",
      "[CV]  max_depth=5, min_samples_leaf=8, n_estimators=500, score=0.827, total=   2.2s\n",
      "[CV] max_depth=5, min_samples_leaf=8, n_estimators=500 ...............\n",
      "[CV]  max_depth=5, min_samples_leaf=8, n_estimators=500, score=0.847, total=   2.2s\n",
      "[CV] max_depth=5, min_samples_leaf=8, n_estimators=500 ...............\n",
      "[CV]  max_depth=5, min_samples_leaf=8, n_estimators=500, score=0.827, total=   2.1s\n",
      "[CV] max_depth=5, min_samples_leaf=8, n_estimators=700 ...............\n",
      "[CV]  max_depth=5, min_samples_leaf=8, n_estimators=700, score=0.826, total=   3.0s\n",
      "[CV] max_depth=5, min_samples_leaf=8, n_estimators=700 ...............\n",
      "[CV]  max_depth=5, min_samples_leaf=8, n_estimators=700, score=0.827, total=   2.8s\n",
      "[CV] max_depth=5, min_samples_leaf=8, n_estimators=700 ...............\n",
      "[CV]  max_depth=5, min_samples_leaf=8, n_estimators=700, score=0.824, total=   2.9s\n",
      "[CV] max_depth=5, min_samples_leaf=8, n_estimators=700 ...............\n",
      "[CV]  max_depth=5, min_samples_leaf=8, n_estimators=700, score=0.846, total=   2.8s\n",
      "[CV] max_depth=5, min_samples_leaf=8, n_estimators=700 ...............\n",
      "[CV]  max_depth=5, min_samples_leaf=8, n_estimators=700, score=0.826, total=   2.9s\n",
      "[CV] max_depth=10, min_samples_leaf=3, n_estimators=200 ..............\n",
      "[CV]  max_depth=10, min_samples_leaf=3, n_estimators=200, score=0.849, total=   1.0s\n",
      "[CV] max_depth=10, min_samples_leaf=3, n_estimators=200 ..............\n",
      "[CV]  max_depth=10, min_samples_leaf=3, n_estimators=200, score=0.837, total=   1.0s\n",
      "[CV] max_depth=10, min_samples_leaf=3, n_estimators=200 ..............\n",
      "[CV]  max_depth=10, min_samples_leaf=3, n_estimators=200, score=0.846, total=   1.0s\n",
      "[CV] max_depth=10, min_samples_leaf=3, n_estimators=200 ..............\n",
      "[CV]  max_depth=10, min_samples_leaf=3, n_estimators=200, score=0.856, total=   1.0s\n",
      "[CV] max_depth=10, min_samples_leaf=3, n_estimators=200 ..............\n",
      "[CV]  max_depth=10, min_samples_leaf=3, n_estimators=200, score=0.849, total=   1.1s\n",
      "[CV] max_depth=10, min_samples_leaf=3, n_estimators=500 ..............\n",
      "[CV]  max_depth=10, min_samples_leaf=3, n_estimators=500, score=0.850, total=   2.3s\n",
      "[CV] max_depth=10, min_samples_leaf=3, n_estimators=500 ..............\n",
      "[CV]  max_depth=10, min_samples_leaf=3, n_estimators=500, score=0.837, total=   2.5s\n",
      "[CV] max_depth=10, min_samples_leaf=3, n_estimators=500 ..............\n",
      "[CV]  max_depth=10, min_samples_leaf=3, n_estimators=500, score=0.854, total=   2.5s\n",
      "[CV] max_depth=10, min_samples_leaf=3, n_estimators=500 ..............\n",
      "[CV]  max_depth=10, min_samples_leaf=3, n_estimators=500, score=0.850, total=   2.4s\n",
      "[CV] max_depth=10, min_samples_leaf=3, n_estimators=500 ..............\n",
      "[CV]  max_depth=10, min_samples_leaf=3, n_estimators=500, score=0.847, total=   2.3s\n",
      "[CV] max_depth=10, min_samples_leaf=3, n_estimators=700 ..............\n"
     ]
    },
    {
     "name": "stdout",
     "output_type": "stream",
     "text": [
      "[CV]  max_depth=10, min_samples_leaf=3, n_estimators=700, score=0.853, total=   3.7s\n",
      "[CV] max_depth=10, min_samples_leaf=3, n_estimators=700 ..............\n",
      "[CV]  max_depth=10, min_samples_leaf=3, n_estimators=700, score=0.836, total=   3.4s\n",
      "[CV] max_depth=10, min_samples_leaf=3, n_estimators=700 ..............\n",
      "[CV]  max_depth=10, min_samples_leaf=3, n_estimators=700, score=0.847, total=   3.3s\n",
      "[CV] max_depth=10, min_samples_leaf=3, n_estimators=700 ..............\n",
      "[CV]  max_depth=10, min_samples_leaf=3, n_estimators=700, score=0.853, total=   3.4s\n",
      "[CV] max_depth=10, min_samples_leaf=3, n_estimators=700 ..............\n",
      "[CV]  max_depth=10, min_samples_leaf=3, n_estimators=700, score=0.850, total=   3.4s\n",
      "[CV] max_depth=10, min_samples_leaf=5, n_estimators=200 ..............\n",
      "[CV]  max_depth=10, min_samples_leaf=5, n_estimators=200, score=0.844, total=   0.9s\n",
      "[CV] max_depth=10, min_samples_leaf=5, n_estimators=200 ..............\n",
      "[CV]  max_depth=10, min_samples_leaf=5, n_estimators=200, score=0.839, total=   0.9s\n",
      "[CV] max_depth=10, min_samples_leaf=5, n_estimators=200 ..............\n",
      "[CV]  max_depth=10, min_samples_leaf=5, n_estimators=200, score=0.841, total=   0.9s\n",
      "[CV] max_depth=10, min_samples_leaf=5, n_estimators=200 ..............\n",
      "[CV]  max_depth=10, min_samples_leaf=5, n_estimators=200, score=0.856, total=   0.9s\n",
      "[CV] max_depth=10, min_samples_leaf=5, n_estimators=200 ..............\n",
      "[CV]  max_depth=10, min_samples_leaf=5, n_estimators=200, score=0.853, total=   0.9s\n",
      "[CV] max_depth=10, min_samples_leaf=5, n_estimators=500 ..............\n",
      "[CV]  max_depth=10, min_samples_leaf=5, n_estimators=500, score=0.847, total=   2.4s\n",
      "[CV] max_depth=10, min_samples_leaf=5, n_estimators=500 ..............\n",
      "[CV]  max_depth=10, min_samples_leaf=5, n_estimators=500, score=0.839, total=   2.2s\n",
      "[CV] max_depth=10, min_samples_leaf=5, n_estimators=500 ..............\n",
      "[CV]  max_depth=10, min_samples_leaf=5, n_estimators=500, score=0.850, total=   2.2s\n",
      "[CV] max_depth=10, min_samples_leaf=5, n_estimators=500 ..............\n",
      "[CV]  max_depth=10, min_samples_leaf=5, n_estimators=500, score=0.853, total=   2.5s\n",
      "[CV] max_depth=10, min_samples_leaf=5, n_estimators=500 ..............\n",
      "[CV]  max_depth=10, min_samples_leaf=5, n_estimators=500, score=0.847, total=   2.3s\n",
      "[CV] max_depth=10, min_samples_leaf=5, n_estimators=700 ..............\n",
      "[CV]  max_depth=10, min_samples_leaf=5, n_estimators=700, score=0.850, total=   3.2s\n",
      "[CV] max_depth=10, min_samples_leaf=5, n_estimators=700 ..............\n",
      "[CV]  max_depth=10, min_samples_leaf=5, n_estimators=700, score=0.834, total=   3.5s\n",
      "[CV] max_depth=10, min_samples_leaf=5, n_estimators=700 ..............\n",
      "[CV]  max_depth=10, min_samples_leaf=5, n_estimators=700, score=0.846, total=   3.3s\n",
      "[CV] max_depth=10, min_samples_leaf=5, n_estimators=700 ..............\n",
      "[CV]  max_depth=10, min_samples_leaf=5, n_estimators=700, score=0.847, total=   3.2s\n",
      "[CV] max_depth=10, min_samples_leaf=5, n_estimators=700 ..............\n",
      "[CV]  max_depth=10, min_samples_leaf=5, n_estimators=700, score=0.846, total=   3.6s\n",
      "[CV] max_depth=10, min_samples_leaf=8, n_estimators=200 ..............\n",
      "[CV]  max_depth=10, min_samples_leaf=8, n_estimators=200, score=0.847, total=   1.1s\n",
      "[CV] max_depth=10, min_samples_leaf=8, n_estimators=200 ..............\n",
      "[CV]  max_depth=10, min_samples_leaf=8, n_estimators=200, score=0.839, total=   1.0s\n",
      "[CV] max_depth=10, min_samples_leaf=8, n_estimators=200 ..............\n",
      "[CV]  max_depth=10, min_samples_leaf=8, n_estimators=200, score=0.849, total=   1.0s\n",
      "[CV] max_depth=10, min_samples_leaf=8, n_estimators=200 ..............\n",
      "[CV]  max_depth=10, min_samples_leaf=8, n_estimators=200, score=0.854, total=   1.0s\n",
      "[CV] max_depth=10, min_samples_leaf=8, n_estimators=200 ..............\n",
      "[CV]  max_depth=10, min_samples_leaf=8, n_estimators=200, score=0.846, total=   1.0s\n",
      "[CV] max_depth=10, min_samples_leaf=8, n_estimators=500 ..............\n",
      "[CV]  max_depth=10, min_samples_leaf=8, n_estimators=500, score=0.844, total=   2.3s\n",
      "[CV] max_depth=10, min_samples_leaf=8, n_estimators=500 ..............\n",
      "[CV]  max_depth=10, min_samples_leaf=8, n_estimators=500, score=0.834, total=   2.2s\n",
      "[CV] max_depth=10, min_samples_leaf=8, n_estimators=500 ..............\n",
      "[CV]  max_depth=10, min_samples_leaf=8, n_estimators=500, score=0.843, total=   2.4s\n",
      "[CV] max_depth=10, min_samples_leaf=8, n_estimators=500 ..............\n",
      "[CV]  max_depth=10, min_samples_leaf=8, n_estimators=500, score=0.844, total=   2.5s\n",
      "[CV] max_depth=10, min_samples_leaf=8, n_estimators=500 ..............\n",
      "[CV]  max_depth=10, min_samples_leaf=8, n_estimators=500, score=0.844, total=   2.3s\n",
      "[CV] max_depth=10, min_samples_leaf=8, n_estimators=700 ..............\n",
      "[CV]  max_depth=10, min_samples_leaf=8, n_estimators=700, score=0.847, total=   3.3s\n",
      "[CV] max_depth=10, min_samples_leaf=8, n_estimators=700 ..............\n",
      "[CV]  max_depth=10, min_samples_leaf=8, n_estimators=700, score=0.837, total=   3.2s\n",
      "[CV] max_depth=10, min_samples_leaf=8, n_estimators=700 ..............\n",
      "[CV]  max_depth=10, min_samples_leaf=8, n_estimators=700, score=0.846, total=   3.3s\n",
      "[CV] max_depth=10, min_samples_leaf=8, n_estimators=700 ..............\n",
      "[CV]  max_depth=10, min_samples_leaf=8, n_estimators=700, score=0.847, total=   3.3s\n",
      "[CV] max_depth=10, min_samples_leaf=8, n_estimators=700 ..............\n",
      "[CV]  max_depth=10, min_samples_leaf=8, n_estimators=700, score=0.846, total=   3.2s\n",
      "[CV] max_depth=15, min_samples_leaf=3, n_estimators=200 ..............\n",
      "[CV]  max_depth=15, min_samples_leaf=3, n_estimators=200, score=0.849, total=   1.1s\n",
      "[CV] max_depth=15, min_samples_leaf=3, n_estimators=200 ..............\n",
      "[CV]  max_depth=15, min_samples_leaf=3, n_estimators=200, score=0.833, total=   1.1s\n",
      "[CV] max_depth=15, min_samples_leaf=3, n_estimators=200 ..............\n",
      "[CV]  max_depth=15, min_samples_leaf=3, n_estimators=200, score=0.856, total=   1.1s\n",
      "[CV] max_depth=15, min_samples_leaf=3, n_estimators=200 ..............\n",
      "[CV]  max_depth=15, min_samples_leaf=3, n_estimators=200, score=0.853, total=   1.0s\n",
      "[CV] max_depth=15, min_samples_leaf=3, n_estimators=200 ..............\n",
      "[CV]  max_depth=15, min_samples_leaf=3, n_estimators=200, score=0.853, total=   1.0s\n",
      "[CV] max_depth=15, min_samples_leaf=3, n_estimators=500 ..............\n",
      "[CV]  max_depth=15, min_samples_leaf=3, n_estimators=500, score=0.849, total=   2.5s\n",
      "[CV] max_depth=15, min_samples_leaf=3, n_estimators=500 ..............\n",
      "[CV]  max_depth=15, min_samples_leaf=3, n_estimators=500, score=0.836, total=   2.5s\n",
      "[CV] max_depth=15, min_samples_leaf=3, n_estimators=500 ..............\n",
      "[CV]  max_depth=15, min_samples_leaf=3, n_estimators=500, score=0.847, total=   2.6s\n",
      "[CV] max_depth=15, min_samples_leaf=3, n_estimators=500 ..............\n",
      "[CV]  max_depth=15, min_samples_leaf=3, n_estimators=500, score=0.853, total=   2.5s\n",
      "[CV] max_depth=15, min_samples_leaf=3, n_estimators=500 ..............\n",
      "[CV]  max_depth=15, min_samples_leaf=3, n_estimators=500, score=0.856, total=   2.6s\n",
      "[CV] max_depth=15, min_samples_leaf=3, n_estimators=700 ..............\n",
      "[CV]  max_depth=15, min_samples_leaf=3, n_estimators=700, score=0.847, total=   3.5s\n",
      "[CV] max_depth=15, min_samples_leaf=3, n_estimators=700 ..............\n",
      "[CV]  max_depth=15, min_samples_leaf=3, n_estimators=700, score=0.834, total=   3.7s\n",
      "[CV] max_depth=15, min_samples_leaf=3, n_estimators=700 ..............\n",
      "[CV]  max_depth=15, min_samples_leaf=3, n_estimators=700, score=0.849, total=   3.6s\n",
      "[CV] max_depth=15, min_samples_leaf=3, n_estimators=700 ..............\n",
      "[CV]  max_depth=15, min_samples_leaf=3, n_estimators=700, score=0.850, total=   3.6s\n",
      "[CV] max_depth=15, min_samples_leaf=3, n_estimators=700 ..............\n",
      "[CV]  max_depth=15, min_samples_leaf=3, n_estimators=700, score=0.853, total=   3.7s\n",
      "[CV] max_depth=15, min_samples_leaf=5, n_estimators=200 ..............\n",
      "[CV]  max_depth=15, min_samples_leaf=5, n_estimators=200, score=0.850, total=   1.0s\n",
      "[CV] max_depth=15, min_samples_leaf=5, n_estimators=200 ..............\n",
      "[CV]  max_depth=15, min_samples_leaf=5, n_estimators=200, score=0.827, total=   1.0s\n",
      "[CV] max_depth=15, min_samples_leaf=5, n_estimators=200 ..............\n",
      "[CV]  max_depth=15, min_samples_leaf=5, n_estimators=200, score=0.851, total=   1.2s\n",
      "[CV] max_depth=15, min_samples_leaf=5, n_estimators=200 ..............\n"
     ]
    },
    {
     "name": "stdout",
     "output_type": "stream",
     "text": [
      "[CV]  max_depth=15, min_samples_leaf=5, n_estimators=200, score=0.853, total=   1.1s\n",
      "[CV] max_depth=15, min_samples_leaf=5, n_estimators=200 ..............\n",
      "[CV]  max_depth=15, min_samples_leaf=5, n_estimators=200, score=0.854, total=   1.0s\n",
      "[CV] max_depth=15, min_samples_leaf=5, n_estimators=500 ..............\n",
      "[CV]  max_depth=15, min_samples_leaf=5, n_estimators=500, score=0.849, total=   2.6s\n",
      "[CV] max_depth=15, min_samples_leaf=5, n_estimators=500 ..............\n",
      "[CV]  max_depth=15, min_samples_leaf=5, n_estimators=500, score=0.829, total=   2.4s\n",
      "[CV] max_depth=15, min_samples_leaf=5, n_estimators=500 ..............\n",
      "[CV]  max_depth=15, min_samples_leaf=5, n_estimators=500, score=0.853, total=   2.6s\n",
      "[CV] max_depth=15, min_samples_leaf=5, n_estimators=500 ..............\n",
      "[CV]  max_depth=15, min_samples_leaf=5, n_estimators=500, score=0.851, total=   2.9s\n",
      "[CV] max_depth=15, min_samples_leaf=5, n_estimators=500 ..............\n",
      "[CV]  max_depth=15, min_samples_leaf=5, n_estimators=500, score=0.856, total=   2.6s\n",
      "[CV] max_depth=15, min_samples_leaf=5, n_estimators=700 ..............\n",
      "[CV]  max_depth=15, min_samples_leaf=5, n_estimators=700, score=0.853, total=   3.2s\n",
      "[CV] max_depth=15, min_samples_leaf=5, n_estimators=700 ..............\n",
      "[CV]  max_depth=15, min_samples_leaf=5, n_estimators=700, score=0.833, total=   3.3s\n",
      "[CV] max_depth=15, min_samples_leaf=5, n_estimators=700 ..............\n",
      "[CV]  max_depth=15, min_samples_leaf=5, n_estimators=700, score=0.850, total=   3.4s\n",
      "[CV] max_depth=15, min_samples_leaf=5, n_estimators=700 ..............\n",
      "[CV]  max_depth=15, min_samples_leaf=5, n_estimators=700, score=0.849, total=   3.4s\n",
      "[CV] max_depth=15, min_samples_leaf=5, n_estimators=700 ..............\n",
      "[CV]  max_depth=15, min_samples_leaf=5, n_estimators=700, score=0.853, total=   3.5s\n",
      "[CV] max_depth=15, min_samples_leaf=8, n_estimators=200 ..............\n",
      "[CV]  max_depth=15, min_samples_leaf=8, n_estimators=200, score=0.849, total=   1.0s\n",
      "[CV] max_depth=15, min_samples_leaf=8, n_estimators=200 ..............\n",
      "[CV]  max_depth=15, min_samples_leaf=8, n_estimators=200, score=0.829, total=   1.0s\n",
      "[CV] max_depth=15, min_samples_leaf=8, n_estimators=200 ..............\n",
      "[CV]  max_depth=15, min_samples_leaf=8, n_estimators=200, score=0.853, total=   0.9s\n",
      "[CV] max_depth=15, min_samples_leaf=8, n_estimators=200 ..............\n",
      "[CV]  max_depth=15, min_samples_leaf=8, n_estimators=200, score=0.847, total=   1.2s\n",
      "[CV] max_depth=15, min_samples_leaf=8, n_estimators=200 ..............\n",
      "[CV]  max_depth=15, min_samples_leaf=8, n_estimators=200, score=0.849, total=   1.1s\n",
      "[CV] max_depth=15, min_samples_leaf=8, n_estimators=500 ..............\n",
      "[CV]  max_depth=15, min_samples_leaf=8, n_estimators=500, score=0.843, total=   2.4s\n",
      "[CV] max_depth=15, min_samples_leaf=8, n_estimators=500 ..............\n",
      "[CV]  max_depth=15, min_samples_leaf=8, n_estimators=500, score=0.831, total=   2.2s\n",
      "[CV] max_depth=15, min_samples_leaf=8, n_estimators=500 ..............\n",
      "[CV]  max_depth=15, min_samples_leaf=8, n_estimators=500, score=0.856, total=   2.2s\n",
      "[CV] max_depth=15, min_samples_leaf=8, n_estimators=500 ..............\n",
      "[CV]  max_depth=15, min_samples_leaf=8, n_estimators=500, score=0.846, total=   2.2s\n",
      "[CV] max_depth=15, min_samples_leaf=8, n_estimators=500 ..............\n",
      "[CV]  max_depth=15, min_samples_leaf=8, n_estimators=500, score=0.851, total=   2.5s\n",
      "[CV] max_depth=15, min_samples_leaf=8, n_estimators=700 ..............\n",
      "[CV]  max_depth=15, min_samples_leaf=8, n_estimators=700, score=0.846, total=   3.3s\n",
      "[CV] max_depth=15, min_samples_leaf=8, n_estimators=700 ..............\n",
      "[CV]  max_depth=15, min_samples_leaf=8, n_estimators=700, score=0.829, total=   3.3s\n",
      "[CV] max_depth=15, min_samples_leaf=8, n_estimators=700 ..............\n",
      "[CV]  max_depth=15, min_samples_leaf=8, n_estimators=700, score=0.851, total=   3.4s\n",
      "[CV] max_depth=15, min_samples_leaf=8, n_estimators=700 ..............\n",
      "[CV]  max_depth=15, min_samples_leaf=8, n_estimators=700, score=0.846, total=   3.6s\n",
      "[CV] max_depth=15, min_samples_leaf=8, n_estimators=700 ..............\n",
      "[CV]  max_depth=15, min_samples_leaf=8, n_estimators=700, score=0.850, total=   3.1s\n",
      "[CV] max_depth=18, min_samples_leaf=3, n_estimators=200 ..............\n",
      "[CV]  max_depth=18, min_samples_leaf=3, n_estimators=200, score=0.840, total=   1.0s\n",
      "[CV] max_depth=18, min_samples_leaf=3, n_estimators=200 ..............\n",
      "[CV]  max_depth=18, min_samples_leaf=3, n_estimators=200, score=0.830, total=   1.0s\n",
      "[CV] max_depth=18, min_samples_leaf=3, n_estimators=200 ..............\n",
      "[CV]  max_depth=18, min_samples_leaf=3, n_estimators=200, score=0.853, total=   1.0s\n",
      "[CV] max_depth=18, min_samples_leaf=3, n_estimators=200 ..............\n",
      "[CV]  max_depth=18, min_samples_leaf=3, n_estimators=200, score=0.854, total=   1.0s\n",
      "[CV] max_depth=18, min_samples_leaf=3, n_estimators=200 ..............\n",
      "[CV]  max_depth=18, min_samples_leaf=3, n_estimators=200, score=0.857, total=   1.0s\n",
      "[CV] max_depth=18, min_samples_leaf=3, n_estimators=500 ..............\n",
      "[CV]  max_depth=18, min_samples_leaf=3, n_estimators=500, score=0.846, total=   2.4s\n",
      "[CV] max_depth=18, min_samples_leaf=3, n_estimators=500 ..............\n",
      "[CV]  max_depth=18, min_samples_leaf=3, n_estimators=500, score=0.831, total=   2.4s\n",
      "[CV] max_depth=18, min_samples_leaf=3, n_estimators=500 ..............\n",
      "[CV]  max_depth=18, min_samples_leaf=3, n_estimators=500, score=0.850, total=   2.4s\n",
      "[CV] max_depth=18, min_samples_leaf=3, n_estimators=500 ..............\n",
      "[CV]  max_depth=18, min_samples_leaf=3, n_estimators=500, score=0.856, total=   2.4s\n",
      "[CV] max_depth=18, min_samples_leaf=3, n_estimators=500 ..............\n",
      "[CV]  max_depth=18, min_samples_leaf=3, n_estimators=500, score=0.860, total=   2.5s\n",
      "[CV] max_depth=18, min_samples_leaf=3, n_estimators=700 ..............\n",
      "[CV]  max_depth=18, min_samples_leaf=3, n_estimators=700, score=0.847, total=   3.8s\n",
      "[CV] max_depth=18, min_samples_leaf=3, n_estimators=700 ..............\n",
      "[CV]  max_depth=18, min_samples_leaf=3, n_estimators=700, score=0.833, total=   3.4s\n",
      "[CV] max_depth=18, min_samples_leaf=3, n_estimators=700 ..............\n",
      "[CV]  max_depth=18, min_samples_leaf=3, n_estimators=700, score=0.850, total=   3.6s\n",
      "[CV] max_depth=18, min_samples_leaf=3, n_estimators=700 ..............\n",
      "[CV]  max_depth=18, min_samples_leaf=3, n_estimators=700, score=0.853, total=   3.6s\n",
      "[CV] max_depth=18, min_samples_leaf=3, n_estimators=700 ..............\n",
      "[CV]  max_depth=18, min_samples_leaf=3, n_estimators=700, score=0.859, total=   3.5s\n",
      "[CV] max_depth=18, min_samples_leaf=5, n_estimators=200 ..............\n",
      "[CV]  max_depth=18, min_samples_leaf=5, n_estimators=200, score=0.847, total=   1.0s\n",
      "[CV] max_depth=18, min_samples_leaf=5, n_estimators=200 ..............\n",
      "[CV]  max_depth=18, min_samples_leaf=5, n_estimators=200, score=0.826, total=   1.0s\n",
      "[CV] max_depth=18, min_samples_leaf=5, n_estimators=200 ..............\n",
      "[CV]  max_depth=18, min_samples_leaf=5, n_estimators=200, score=0.854, total=   1.1s\n",
      "[CV] max_depth=18, min_samples_leaf=5, n_estimators=200 ..............\n",
      "[CV]  max_depth=18, min_samples_leaf=5, n_estimators=200, score=0.846, total=   1.0s\n",
      "[CV] max_depth=18, min_samples_leaf=5, n_estimators=200 ..............\n",
      "[CV]  max_depth=18, min_samples_leaf=5, n_estimators=200, score=0.853, total=   1.0s\n",
      "[CV] max_depth=18, min_samples_leaf=5, n_estimators=500 ..............\n",
      "[CV]  max_depth=18, min_samples_leaf=5, n_estimators=500, score=0.846, total=   2.6s\n",
      "[CV] max_depth=18, min_samples_leaf=5, n_estimators=500 ..............\n",
      "[CV]  max_depth=18, min_samples_leaf=5, n_estimators=500, score=0.833, total=   2.5s\n",
      "[CV] max_depth=18, min_samples_leaf=5, n_estimators=500 ..............\n",
      "[CV]  max_depth=18, min_samples_leaf=5, n_estimators=500, score=0.850, total=   2.5s\n",
      "[CV] max_depth=18, min_samples_leaf=5, n_estimators=500 ..............\n",
      "[CV]  max_depth=18, min_samples_leaf=5, n_estimators=500, score=0.850, total=   2.4s\n",
      "[CV] max_depth=18, min_samples_leaf=5, n_estimators=500 ..............\n",
      "[CV]  max_depth=18, min_samples_leaf=5, n_estimators=500, score=0.849, total=   2.5s\n",
      "[CV] max_depth=18, min_samples_leaf=5, n_estimators=700 ..............\n",
      "[CV]  max_depth=18, min_samples_leaf=5, n_estimators=700, score=0.843, total=   3.6s\n",
      "[CV] max_depth=18, min_samples_leaf=5, n_estimators=700 ..............\n"
     ]
    },
    {
     "name": "stdout",
     "output_type": "stream",
     "text": [
      "[CV]  max_depth=18, min_samples_leaf=5, n_estimators=700, score=0.831, total=   3.3s\n",
      "[CV] max_depth=18, min_samples_leaf=5, n_estimators=700 ..............\n",
      "[CV]  max_depth=18, min_samples_leaf=5, n_estimators=700, score=0.849, total=   3.4s\n",
      "[CV] max_depth=18, min_samples_leaf=5, n_estimators=700 ..............\n",
      "[CV]  max_depth=18, min_samples_leaf=5, n_estimators=700, score=0.846, total=   3.4s\n",
      "[CV] max_depth=18, min_samples_leaf=5, n_estimators=700 ..............\n",
      "[CV]  max_depth=18, min_samples_leaf=5, n_estimators=700, score=0.853, total=   3.3s\n",
      "[CV] max_depth=18, min_samples_leaf=8, n_estimators=200 ..............\n",
      "[CV]  max_depth=18, min_samples_leaf=8, n_estimators=200, score=0.849, total=   1.0s\n",
      "[CV] max_depth=18, min_samples_leaf=8, n_estimators=200 ..............\n",
      "[CV]  max_depth=18, min_samples_leaf=8, n_estimators=200, score=0.833, total=   1.0s\n",
      "[CV] max_depth=18, min_samples_leaf=8, n_estimators=200 ..............\n",
      "[CV]  max_depth=18, min_samples_leaf=8, n_estimators=200, score=0.849, total=   1.0s\n",
      "[CV] max_depth=18, min_samples_leaf=8, n_estimators=200 ..............\n",
      "[CV]  max_depth=18, min_samples_leaf=8, n_estimators=200, score=0.847, total=   1.1s\n",
      "[CV] max_depth=18, min_samples_leaf=8, n_estimators=200 ..............\n",
      "[CV]  max_depth=18, min_samples_leaf=8, n_estimators=200, score=0.853, total=   1.1s\n",
      "[CV] max_depth=18, min_samples_leaf=8, n_estimators=500 ..............\n",
      "[CV]  max_depth=18, min_samples_leaf=8, n_estimators=500, score=0.851, total=   2.5s\n",
      "[CV] max_depth=18, min_samples_leaf=8, n_estimators=500 ..............\n",
      "[CV]  max_depth=18, min_samples_leaf=8, n_estimators=500, score=0.826, total=   2.4s\n",
      "[CV] max_depth=18, min_samples_leaf=8, n_estimators=500 ..............\n",
      "[CV]  max_depth=18, min_samples_leaf=8, n_estimators=500, score=0.850, total=   2.4s\n",
      "[CV] max_depth=18, min_samples_leaf=8, n_estimators=500 ..............\n",
      "[CV]  max_depth=18, min_samples_leaf=8, n_estimators=500, score=0.846, total=   2.2s\n",
      "[CV] max_depth=18, min_samples_leaf=8, n_estimators=500 ..............\n",
      "[CV]  max_depth=18, min_samples_leaf=8, n_estimators=500, score=0.853, total=   2.2s\n",
      "[CV] max_depth=18, min_samples_leaf=8, n_estimators=700 ..............\n",
      "[CV]  max_depth=18, min_samples_leaf=8, n_estimators=700, score=0.847, total=   3.3s\n",
      "[CV] max_depth=18, min_samples_leaf=8, n_estimators=700 ..............\n",
      "[CV]  max_depth=18, min_samples_leaf=8, n_estimators=700, score=0.834, total=   3.1s\n",
      "[CV] max_depth=18, min_samples_leaf=8, n_estimators=700 ..............\n",
      "[CV]  max_depth=18, min_samples_leaf=8, n_estimators=700, score=0.851, total=   3.1s\n",
      "[CV] max_depth=18, min_samples_leaf=8, n_estimators=700 ..............\n",
      "[CV]  max_depth=18, min_samples_leaf=8, n_estimators=700, score=0.846, total=   3.2s\n",
      "[CV] max_depth=18, min_samples_leaf=8, n_estimators=700 ..............\n",
      "[CV]  max_depth=18, min_samples_leaf=8, n_estimators=700, score=0.849, total=   3.1s\n",
      "[CV] max_depth=20, min_samples_leaf=3, n_estimators=200 ..............\n",
      "[CV]  max_depth=20, min_samples_leaf=3, n_estimators=200, score=0.850, total=   1.0s\n",
      "[CV] max_depth=20, min_samples_leaf=3, n_estimators=200 ..............\n",
      "[CV]  max_depth=20, min_samples_leaf=3, n_estimators=200, score=0.834, total=   1.0s\n",
      "[CV] max_depth=20, min_samples_leaf=3, n_estimators=200 ..............\n",
      "[CV]  max_depth=20, min_samples_leaf=3, n_estimators=200, score=0.846, total=   1.0s\n",
      "[CV] max_depth=20, min_samples_leaf=3, n_estimators=200 ..............\n",
      "[CV]  max_depth=20, min_samples_leaf=3, n_estimators=200, score=0.859, total=   1.0s\n",
      "[CV] max_depth=20, min_samples_leaf=3, n_estimators=200 ..............\n",
      "[CV]  max_depth=20, min_samples_leaf=3, n_estimators=200, score=0.850, total=   1.0s\n",
      "[CV] max_depth=20, min_samples_leaf=3, n_estimators=500 ..............\n",
      "[CV]  max_depth=20, min_samples_leaf=3, n_estimators=500, score=0.847, total=   2.4s\n",
      "[CV] max_depth=20, min_samples_leaf=3, n_estimators=500 ..............\n",
      "[CV]  max_depth=20, min_samples_leaf=3, n_estimators=500, score=0.829, total=   2.4s\n",
      "[CV] max_depth=20, min_samples_leaf=3, n_estimators=500 ..............\n",
      "[CV]  max_depth=20, min_samples_leaf=3, n_estimators=500, score=0.849, total=   2.5s\n",
      "[CV] max_depth=20, min_samples_leaf=3, n_estimators=500 ..............\n",
      "[CV]  max_depth=20, min_samples_leaf=3, n_estimators=500, score=0.854, total=   2.5s\n",
      "[CV] max_depth=20, min_samples_leaf=3, n_estimators=500 ..............\n",
      "[CV]  max_depth=20, min_samples_leaf=3, n_estimators=500, score=0.856, total=   2.4s\n",
      "[CV] max_depth=20, min_samples_leaf=3, n_estimators=700 ..............\n",
      "[CV]  max_depth=20, min_samples_leaf=3, n_estimators=700, score=0.844, total=   3.3s\n",
      "[CV] max_depth=20, min_samples_leaf=3, n_estimators=700 ..............\n",
      "[CV]  max_depth=20, min_samples_leaf=3, n_estimators=700, score=0.833, total=   3.3s\n",
      "[CV] max_depth=20, min_samples_leaf=3, n_estimators=700 ..............\n",
      "[CV]  max_depth=20, min_samples_leaf=3, n_estimators=700, score=0.854, total=   3.3s\n",
      "[CV] max_depth=20, min_samples_leaf=3, n_estimators=700 ..............\n",
      "[CV]  max_depth=20, min_samples_leaf=3, n_estimators=700, score=0.857, total=   3.3s\n",
      "[CV] max_depth=20, min_samples_leaf=3, n_estimators=700 ..............\n",
      "[CV]  max_depth=20, min_samples_leaf=3, n_estimators=700, score=0.860, total=   3.3s\n",
      "[CV] max_depth=20, min_samples_leaf=5, n_estimators=200 ..............\n",
      "[CV]  max_depth=20, min_samples_leaf=5, n_estimators=200, score=0.850, total=   1.0s\n",
      "[CV] max_depth=20, min_samples_leaf=5, n_estimators=200 ..............\n",
      "[CV]  max_depth=20, min_samples_leaf=5, n_estimators=200, score=0.837, total=   1.0s\n",
      "[CV] max_depth=20, min_samples_leaf=5, n_estimators=200 ..............\n",
      "[CV]  max_depth=20, min_samples_leaf=5, n_estimators=200, score=0.847, total=   1.0s\n",
      "[CV] max_depth=20, min_samples_leaf=5, n_estimators=200 ..............\n",
      "[CV]  max_depth=20, min_samples_leaf=5, n_estimators=200, score=0.847, total=   0.9s\n",
      "[CV] max_depth=20, min_samples_leaf=5, n_estimators=200 ..............\n",
      "[CV]  max_depth=20, min_samples_leaf=5, n_estimators=200, score=0.853, total=   0.9s\n",
      "[CV] max_depth=20, min_samples_leaf=5, n_estimators=500 ..............\n",
      "[CV]  max_depth=20, min_samples_leaf=5, n_estimators=500, score=0.847, total=   2.3s\n",
      "[CV] max_depth=20, min_samples_leaf=5, n_estimators=500 ..............\n",
      "[CV]  max_depth=20, min_samples_leaf=5, n_estimators=500, score=0.831, total=   2.3s\n",
      "[CV] max_depth=20, min_samples_leaf=5, n_estimators=500 ..............\n",
      "[CV]  max_depth=20, min_samples_leaf=5, n_estimators=500, score=0.844, total=   2.3s\n",
      "[CV] max_depth=20, min_samples_leaf=5, n_estimators=500 ..............\n",
      "[CV]  max_depth=20, min_samples_leaf=5, n_estimators=500, score=0.846, total=   2.3s\n",
      "[CV] max_depth=20, min_samples_leaf=5, n_estimators=500 ..............\n",
      "[CV]  max_depth=20, min_samples_leaf=5, n_estimators=500, score=0.854, total=   2.3s\n",
      "[CV] max_depth=20, min_samples_leaf=5, n_estimators=700 ..............\n",
      "[CV]  max_depth=20, min_samples_leaf=5, n_estimators=700, score=0.849, total=   3.2s\n",
      "[CV] max_depth=20, min_samples_leaf=5, n_estimators=700 ..............\n",
      "[CV]  max_depth=20, min_samples_leaf=5, n_estimators=700, score=0.833, total=   3.2s\n",
      "[CV] max_depth=20, min_samples_leaf=5, n_estimators=700 ..............\n",
      "[CV]  max_depth=20, min_samples_leaf=5, n_estimators=700, score=0.851, total=   3.2s\n",
      "[CV] max_depth=20, min_samples_leaf=5, n_estimators=700 ..............\n",
      "[CV]  max_depth=20, min_samples_leaf=5, n_estimators=700, score=0.843, total=   3.2s\n",
      "[CV] max_depth=20, min_samples_leaf=5, n_estimators=700 ..............\n",
      "[CV]  max_depth=20, min_samples_leaf=5, n_estimators=700, score=0.853, total=   3.2s\n",
      "[CV] max_depth=20, min_samples_leaf=8, n_estimators=200 ..............\n",
      "[CV]  max_depth=20, min_samples_leaf=8, n_estimators=200, score=0.843, total=   0.9s\n",
      "[CV] max_depth=20, min_samples_leaf=8, n_estimators=200 ..............\n",
      "[CV]  max_depth=20, min_samples_leaf=8, n_estimators=200, score=0.831, total=   0.9s\n",
      "[CV] max_depth=20, min_samples_leaf=8, n_estimators=200 ..............\n",
      "[CV]  max_depth=20, min_samples_leaf=8, n_estimators=200, score=0.851, total=   0.9s\n",
      "[CV] max_depth=20, min_samples_leaf=8, n_estimators=200 ..............\n",
      "[CV]  max_depth=20, min_samples_leaf=8, n_estimators=200, score=0.846, total=   0.9s\n",
      "[CV] max_depth=20, min_samples_leaf=8, n_estimators=200 ..............\n"
     ]
    },
    {
     "name": "stdout",
     "output_type": "stream",
     "text": [
      "[CV]  max_depth=20, min_samples_leaf=8, n_estimators=200, score=0.847, total=   0.9s\n",
      "[CV] max_depth=20, min_samples_leaf=8, n_estimators=500 ..............\n",
      "[CV]  max_depth=20, min_samples_leaf=8, n_estimators=500, score=0.849, total=   2.4s\n",
      "[CV] max_depth=20, min_samples_leaf=8, n_estimators=500 ..............\n",
      "[CV]  max_depth=20, min_samples_leaf=8, n_estimators=500, score=0.830, total=   2.2s\n",
      "[CV] max_depth=20, min_samples_leaf=8, n_estimators=500 ..............\n",
      "[CV]  max_depth=20, min_samples_leaf=8, n_estimators=500, score=0.856, total=   2.2s\n",
      "[CV] max_depth=20, min_samples_leaf=8, n_estimators=500 ..............\n",
      "[CV]  max_depth=20, min_samples_leaf=8, n_estimators=500, score=0.846, total=   2.2s\n",
      "[CV] max_depth=20, min_samples_leaf=8, n_estimators=500 ..............\n",
      "[CV]  max_depth=20, min_samples_leaf=8, n_estimators=500, score=0.850, total=   2.2s\n",
      "[CV] max_depth=20, min_samples_leaf=8, n_estimators=700 ..............\n",
      "[CV]  max_depth=20, min_samples_leaf=8, n_estimators=700, score=0.846, total=   3.1s\n",
      "[CV] max_depth=20, min_samples_leaf=8, n_estimators=700 ..............\n",
      "[CV]  max_depth=20, min_samples_leaf=8, n_estimators=700, score=0.831, total=   3.1s\n",
      "[CV] max_depth=20, min_samples_leaf=8, n_estimators=700 ..............\n",
      "[CV]  max_depth=20, min_samples_leaf=8, n_estimators=700, score=0.849, total=   3.1s\n",
      "[CV] max_depth=20, min_samples_leaf=8, n_estimators=700 ..............\n",
      "[CV]  max_depth=20, min_samples_leaf=8, n_estimators=700, score=0.844, total=   3.1s\n",
      "[CV] max_depth=20, min_samples_leaf=8, n_estimators=700 ..............\n",
      "[CV]  max_depth=20, min_samples_leaf=8, n_estimators=700, score=0.853, total=   3.1s\n"
     ]
    },
    {
     "name": "stderr",
     "output_type": "stream",
     "text": [
      "[Parallel(n_jobs=1)]: Done 225 out of 225 | elapsed:  8.2min finished\n"
     ]
    },
    {
     "data": {
      "text/plain": [
       "GridSearchCV(cv=None, error_score=nan,\n",
       "             estimator=RandomForestClassifier(bootstrap=True, ccp_alpha=0.0,\n",
       "                                              class_weight=None,\n",
       "                                              criterion='gini', max_depth=None,\n",
       "                                              max_features='auto',\n",
       "                                              max_leaf_nodes=None,\n",
       "                                              max_samples=None,\n",
       "                                              min_impurity_decrease=0.0,\n",
       "                                              min_impurity_split=None,\n",
       "                                              min_samples_leaf=1,\n",
       "                                              min_samples_split=2,\n",
       "                                              min_weight_fraction_leaf=0.0,\n",
       "                                              n_estimators=100, n_jobs=None,\n",
       "                                              oob_score=True, random_state=None,\n",
       "                                              verbose=0, warm_start=False),\n",
       "             iid='deprecated', n_jobs=None,\n",
       "             param_grid={'max_depth': [5, 10, 15, 18, 20],\n",
       "                         'min_samples_leaf': [3, 5, 8],\n",
       "                         'n_estimators': [200, 500, 700]},\n",
       "             pre_dispatch='2*n_jobs', refit=True, return_train_score=False,\n",
       "             scoring=None, verbose=3)"
      ]
     },
     "execution_count": 105,
     "metadata": {},
     "output_type": "execute_result"
    }
   ],
   "source": [
    "gs.fit(X_train,y_train)"
   ]
  },
  {
   "cell_type": "code",
   "execution_count": 106,
   "metadata": {},
   "outputs": [
    {
     "data": {
      "text/plain": [
       "{'max_depth': 20, 'min_samples_leaf': 3, 'n_estimators': 700}"
      ]
     },
     "execution_count": 106,
     "metadata": {},
     "output_type": "execute_result"
    }
   ],
   "source": [
    "gs.best_params_"
   ]
  },
  {
   "cell_type": "code",
   "execution_count": 107,
   "metadata": {},
   "outputs": [
    {
     "data": {
      "text/plain": [
       "RandomForestClassifier(bootstrap=True, ccp_alpha=0.0, class_weight=None,\n",
       "                       criterion='gini', max_depth=20, max_features='auto',\n",
       "                       max_leaf_nodes=None, max_samples=None,\n",
       "                       min_impurity_decrease=0.0, min_impurity_split=None,\n",
       "                       min_samples_leaf=3, min_samples_split=2,\n",
       "                       min_weight_fraction_leaf=0.0, n_estimators=700,\n",
       "                       n_jobs=None, oob_score=True, random_state=None,\n",
       "                       verbose=0, warm_start=False)"
      ]
     },
     "execution_count": 107,
     "metadata": {},
     "output_type": "execute_result"
    }
   ],
   "source": [
    "\n",
    "gs.best_estimator_"
   ]
  },
  {
   "cell_type": "code",
   "execution_count": 108,
   "metadata": {},
   "outputs": [],
   "source": [
    "rf1 = gs.best_estimator_"
   ]
  },
  {
   "cell_type": "code",
   "execution_count": 109,
   "metadata": {},
   "outputs": [
    {
     "data": {
      "text/plain": [
       "RandomForestClassifier(bootstrap=True, ccp_alpha=0.0, class_weight=None,\n",
       "                       criterion='gini', max_depth=20, max_features='auto',\n",
       "                       max_leaf_nodes=None, max_samples=None,\n",
       "                       min_impurity_decrease=0.0, min_impurity_split=None,\n",
       "                       min_samples_leaf=3, min_samples_split=2,\n",
       "                       min_weight_fraction_leaf=0.0, n_estimators=700,\n",
       "                       n_jobs=None, oob_score=True, random_state=None,\n",
       "                       verbose=0, warm_start=False)"
      ]
     },
     "execution_count": 109,
     "metadata": {},
     "output_type": "execute_result"
    }
   ],
   "source": [
    "rf1.fit(X_train,y_train)"
   ]
  },
  {
   "cell_type": "code",
   "execution_count": 110,
   "metadata": {},
   "outputs": [
    {
     "data": {
      "text/plain": [
       "0.8485714285714285"
      ]
     },
     "execution_count": 110,
     "metadata": {},
     "output_type": "execute_result"
    }
   ],
   "source": [
    "rf1.oob_score_"
   ]
  },
  {
   "cell_type": "code",
   "execution_count": 111,
   "metadata": {},
   "outputs": [
    {
     "data": {
      "text/plain": [
       "0.8445714285714285"
      ]
     },
     "execution_count": 111,
     "metadata": {},
     "output_type": "execute_result"
    }
   ],
   "source": [
    "rf.oob_score_"
   ]
  },
  {
   "cell_type": "code",
   "execution_count": 112,
   "metadata": {},
   "outputs": [],
   "source": [
    "pred_rf1 = rf1.predict(X_test)"
   ]
  },
  {
   "cell_type": "code",
   "execution_count": 113,
   "metadata": {},
   "outputs": [
    {
     "name": "stdout",
     "output_type": "stream",
     "text": [
      "0.8486666666666667\n"
     ]
    }
   ],
   "source": [
    "print(accuracy_score(y_test,pred_rf1))"
   ]
  },
  {
   "cell_type": "code",
   "execution_count": 114,
   "metadata": {},
   "outputs": [
    {
     "data": {
      "text/plain": [
       "array([6.87053747e-03, 2.77405073e-03, 8.24419602e-03, 1.00920575e-02,\n",
       "       5.70218888e-03, 2.40254837e-03, 0.00000000e+00, 1.08460123e-02,\n",
       "       0.00000000e+00, 1.44790110e-01, 6.89363005e-04, 4.90340958e-02,\n",
       "       1.51049217e-03, 1.43024382e-03, 4.91407240e-03, 0.00000000e+00,\n",
       "       4.29147189e-03, 3.42956209e-02, 4.37162253e-03, 1.49373025e-03,\n",
       "       7.09213289e-03, 6.85856073e-03, 2.50347179e-05, 1.10361511e-02,\n",
       "       1.70477215e-03, 7.71032379e-03, 2.77403027e-03, 3.93074447e-03,\n",
       "       7.80561008e-02, 2.08448612e-02, 1.06470099e-03, 1.46184852e-02,\n",
       "       8.86051752e-03, 2.58059266e-02, 6.25951679e-04, 1.97410637e-03,\n",
       "       3.35174921e-03, 1.50688337e-04, 5.14570895e-03, 1.00587369e-02,\n",
       "       9.67692646e-03, 0.00000000e+00, 3.33340697e-04, 1.78310001e-04,\n",
       "       0.00000000e+00, 9.14253508e-05, 6.36934501e-05, 0.00000000e+00,\n",
       "       2.65826564e-07, 1.84356915e-04, 0.00000000e+00, 1.10778188e-04,\n",
       "       0.00000000e+00, 4.74005537e-06, 0.00000000e+00, 0.00000000e+00,\n",
       "       0.00000000e+00, 6.80188053e-05, 5.11859290e-05, 0.00000000e+00,\n",
       "       8.29914313e-05, 3.15955370e-06, 1.91971512e-05, 0.00000000e+00,\n",
       "       2.79335170e-03, 0.00000000e+00, 0.00000000e+00, 0.00000000e+00,\n",
       "       9.47472818e-05, 4.91939689e-06, 0.00000000e+00, 5.40571232e-05,\n",
       "       0.00000000e+00, 4.33341453e-05, 2.29801088e-04, 0.00000000e+00,\n",
       "       0.00000000e+00, 4.50720859e-03, 9.40002795e-06, 0.00000000e+00,\n",
       "       8.78869714e-02, 4.84897824e-02, 1.08500534e-01, 1.31804725e-01,\n",
       "       3.13561118e-02, 6.79149690e-02])"
      ]
     },
     "execution_count": 114,
     "metadata": {},
     "output_type": "execute_result"
    }
   ],
   "source": [
    "rf1.feature_importances_"
   ]
  },
  {
   "cell_type": "code",
   "execution_count": null,
   "metadata": {},
   "outputs": [],
   "source": []
  },
  {
   "cell_type": "code",
   "execution_count": null,
   "metadata": {},
   "outputs": [],
   "source": []
  },
  {
   "cell_type": "code",
   "execution_count": 115,
   "metadata": {},
   "outputs": [],
   "source": [
    "from sklearn.neighbors import KNeighborsClassifier"
   ]
  },
  {
   "cell_type": "code",
   "execution_count": 116,
   "metadata": {},
   "outputs": [],
   "source": [
    "knn = KNeighborsClassifier(n_neighbors=30)"
   ]
  },
  {
   "cell_type": "code",
   "execution_count": 117,
   "metadata": {},
   "outputs": [
    {
     "data": {
      "text/plain": [
       "KNeighborsClassifier(algorithm='auto', leaf_size=30, metric='minkowski',\n",
       "                     metric_params=None, n_jobs=None, n_neighbors=30, p=2,\n",
       "                     weights='uniform')"
      ]
     },
     "execution_count": 117,
     "metadata": {},
     "output_type": "execute_result"
    }
   ],
   "source": [
    "knn.fit(X_train,y_train)"
   ]
  },
  {
   "cell_type": "code",
   "execution_count": 118,
   "metadata": {},
   "outputs": [],
   "source": [
    "pred = knn.predict(X_test)"
   ]
  },
  {
   "cell_type": "code",
   "execution_count": 119,
   "metadata": {},
   "outputs": [],
   "source": [
    "from sklearn.metrics import classification_report,confusion_matrix"
   ]
  },
  {
   "cell_type": "code",
   "execution_count": 120,
   "metadata": {},
   "outputs": [
    {
     "name": "stdout",
     "output_type": "stream",
     "text": [
      "[[1037   91]\n",
      " [ 188  184]]\n"
     ]
    }
   ],
   "source": [
    "print(confusion_matrix(y_test,pred))"
   ]
  },
  {
   "cell_type": "code",
   "execution_count": 121,
   "metadata": {},
   "outputs": [],
   "source": [
    "error_rate = []\n",
    "for i in range(1,40,1):\n",
    "    knn_i = KNeighborsClassifier(n_neighbors=i)\n",
    "    knn_i.fit(X_train,y_train)\n",
    "    pred_knn_i = knn_i.predict(X_test)\n",
    "    error_rate.append(np.mean(pred_knn_i != y_test))"
   ]
  },
  {
   "cell_type": "code",
   "execution_count": 122,
   "metadata": {},
   "outputs": [
    {
     "data": {
      "text/plain": [
       "Text(0, 0.5, 'Error Rate')"
      ]
     },
     "execution_count": 122,
     "metadata": {},
     "output_type": "execute_result"
    },
    {
     "data": {
      "image/png": "[encoded data removed]",
      "text/plain": [
       "<Figure size 720x432 with 1 Axes>"
      ]
     },
     "metadata": {
      "needs_background": "light"
     },
     "output_type": "display_data"
    }
   ],
   "source": [
    "plt.figure(figsize=(10,6))\n",
    "plt.plot(range(1,40),error_rate,color='blue', linestyle='dashed', marker='o',\n",
    "         markerfacecolor='red', markersize=10)\n",
    "plt.title('Error Rate vs. K Value')\n",
    "plt.xlabel('K')\n",
    "plt.ylabel('Error Rate')"
   ]
  },
  {
   "cell_type": "code",
   "execution_count": null,
   "metadata": {},
   "outputs": [],
   "source": []
  }
 ],
 "metadata": {
  "kernelspec": {
   "display_name": "Python 3",
   "language": "python",
   "name": "python3"
  },
  "language_info": {
   "codemirror_mode": {
    "name": "ipython",
    "version": 3
   },
   "file_extension": ".py",
   "mimetype": "text/x-python",
   "name": "python",
   "nbconvert_exporter": "python",
   "pygments_lexer": "ipython3",
   "version": "3.7.6"
  }
 },
 "nbformat": 4,
 "nbformat_minor": 4
}
